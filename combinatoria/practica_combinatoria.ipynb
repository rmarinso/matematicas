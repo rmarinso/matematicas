{
  "nbformat": 4,
  "nbformat_minor": 0,
  "metadata": {
    "colab": {
      "provenance": [],
      "include_colab_link": true
    },
    "kernelspec": {
      "name": "python3",
      "display_name": "Python 3"
    },
    "language_info": {
      "name": "python"
    }
  },
  "cells": [
    {
      "cell_type": "markdown",
      "metadata": {
        "id": "view-in-github",
        "colab_type": "text"
      },
      "source": [
        "<a href=\"https://colab.research.google.com/github/rmarinso/matematicas/blob/main/combinatoria/practica_combinatoria.ipynb\" target=\"_parent\"><img src=\"https://colab.research.google.com/assets/colab-badge.svg\" alt=\"Open In Colab\"/></a>"
      ]
    },
    {
      "cell_type": "markdown",
      "source": [
        "# Práctica 1. Combinatoria\n",
        "Resuelva los siguientes apartados de la práctica.  \n",
        "La práctica 1.1 se proporciona solucionada para que pueda servir como ejemplo.\n"
      ],
      "metadata": {
        "id": "VP-PLgSCPtPC"
      }
    },
    {
      "cell_type": "markdown",
      "source": [
        "## Práctica 1.1\n",
        "Cuatro amigos:\n",
        "* Antonio (A)\n",
        "* Begoña (B)\n",
        "* Cesar (C)\n",
        "* Diana (D)\n",
        "\n",
        "constituyen una asociación y tienen que asignar los siguientes cargos:\n",
        "* Presiente (1)\n",
        "* Vicepresidente (2)\n",
        "* Secretario (3)\n",
        "* Tesorero (4)\n",
        "\n",
        "Se pide:\n",
        "1. Escribiendo la solución en una celda de Markdown analice el caso indicando si se trata de variaciones, permutaciones o combinaciones, con o sin repetición o el caso que sea, y el motivo para clasificar el caso de esta forma.\n",
        "2. Utilizando fórmulas de $\\LaTeX$ calcule cuántos casos existen.\n",
        "3. Cree un programa en Python para calcule cuántos casos existen.\n",
        "4. Cree un programa en Python para imprimir todas las posibilidades y numérelas. Por ejemplo:\n",
        "    - 1 ABCD\n",
        "    - 2 ABDC\n",
        "    - 3 ACBD\n",
        "    - &#20; &#20; &#20; ... ... ..."
      ],
      "metadata": {
        "id": "6oyoxqfbQJDC"
      }
    },
    {
      "cell_type": "markdown",
      "source": [
        "### Solución 1.1\n",
        "* Estamos ante un caso de **permutaciones sin repetición** ya que:\n",
        " - El orden importa, no es lo mismo estar el nº1 que significa ser presidente que el nº 4 que corresponde al tesorero.\n",
        " - Intervienen todos. Son 4 amigos para 4 cargos, todos tienen cargo, lo que cambiar es el orden, esto es, el cargo que obtengan.\n",
        " - No se repiten elementos. Una persona no puede tener dos cargos simultaneamente.\n",
        "* Los casos que se obtienen con las permutaciones sin repetición son $P_{n}=n!$ que para este ejemplo son:\n",
        "\n",
        "$$P_{4}=4!=4 \\cdot 3 \\cdot 2 \\cdot 1 = 24$$"
      ],
      "metadata": {
        "id": "t5unIqR7jdZR"
      }
    },
    {
      "cell_type": "code",
      "source": [
        "import math\n",
        "p = math.factorial(4)\n",
        "print(\"Los casos son: \", p)\n",
        "print(\"Comprobación:  \", 4*3*2*1)"
      ],
      "metadata": {
        "id": "va3_l_-hmFS-"
      },
      "execution_count": null,
      "outputs": []
    },
    {
      "cell_type": "markdown",
      "source": [
        "#### Método 1\n",
        "Sin usar librería."
      ],
      "metadata": {
        "id": "kOM3pEAGnh8v"
      }
    },
    {
      "cell_type": "code",
      "source": [
        "lista = ['A', 'B', 'C', 'D']\n",
        "contador = 1\n",
        "\n",
        "for i in lista:\n",
        "    for j in lista:\n",
        "        for k in lista:\n",
        "            for l in lista:\n",
        "                if i != j and i != k and i != l and j != k and j != l and k != l:\n",
        "                    print(f\"{contador:2d} →  {i+j+k+l}\")\n",
        "                    contador += 1"
      ],
      "metadata": {
        "id": "5--ZpSoJncj3"
      },
      "execution_count": null,
      "outputs": []
    },
    {
      "cell_type": "markdown",
      "source": [
        "#### Método 2\n",
        "* Usamos la función `permutations` de la librería `itertools`.\n",
        "* Imprimimos todas las permutaciones de los elementos de una lista."
      ],
      "metadata": {
        "id": "2PoCD5GlnwS1"
      }
    },
    {
      "cell_type": "code",
      "source": [
        "from itertools import permutations\n",
        "\n",
        "perm = permutations(['A','B','C','D'])   # obtenemos todas las permutaciones de la lista \n",
        "\n",
        "for i in list(perm):                     # imprimimos todas las permutaciones \n",
        "    print (*i)                           # con el asterisco se muestran las listas sin corchetes ni comas"
      ],
      "metadata": {
        "id": "eKkB1gQnn6_P"
      },
      "execution_count": null,
      "outputs": []
    },
    {
      "cell_type": "markdown",
      "source": [
        "## Práctica 1.2\n",
        "Cuatro amigos:\n",
        "* Antonio (A)\n",
        "* Begoña (B)\n",
        "* Cesar (C)\n",
        "* Diana (D)\n",
        "\n",
        "constituyen una asociación y tienen que asignar los siguientes cargos:\n",
        "* Presiente (1)\n",
        "* Secretario (3)\n",
        "* Tesorero (4)\n",
        "\n",
        "Se pide:\n",
        "1. Escribiendo la solución en una celda de Markdown analice el caso indicando si se trata de variaciones, permutaciones o combinaciones, con o sin repetición o el caso que sea, y el motivo para clasificar el caso de esta forma.\n",
        "2. Utilizando fórmulas de $\\LaTeX$ calcule cuántos casos existen.\n",
        "3. Cree un programa en Python para calcule cuántos casos existen.\n",
        "4. Cree un programa en Python para imprimir todas las posibilidades y numérelas. Por ejemplo:\n",
        "    - 1 ABC\n",
        "    - 2 ABD\n",
        "    - 3 ACB\n",
        "    - &#20; &#20; &#20; ... ... ..."
      ],
      "metadata": {
        "id": "sxSuCpAFSBPJ"
      }
    },
    {
      "cell_type": "markdown",
      "source": [
        "### Solución 1.2"
      ],
      "metadata": {
        "id": "xx9qsw_ej9Pd"
      }
    },
    {
      "cell_type": "code",
      "source": [
        "lista = ['A', 'B', 'C', 'D'] #EJERCICIO 1 COMBINATORIA\n",
        "contador = 1\n",
        "enumerate(lista)\n",
        "for i in lista:\n",
        "    for j in lista:\n",
        "        for k in lista:\n",
        "            for l in lista:\n",
        "                if i != j and i != k and i != l and j != k and j != l and k != l:\n",
        "                    print(f\"{contador:2d} →  {i+j+k+l}\")\n",
        "                    contador += 1"
      ],
      "metadata": {
        "colab": {
          "base_uri": "https://localhost:8080/"
        },
        "id": "oZgpxDk-UcU5",
        "outputId": "c1efd50a-0050-4793-a91d-0e489f3853e9"
      },
      "execution_count": 121,
      "outputs": [
        {
          "output_type": "stream",
          "name": "stdout",
          "text": [
            " 1 →  ABCD\n",
            " 2 →  ABDC\n",
            " 3 →  ACBD\n",
            " 4 →  ACDB\n",
            " 5 →  ADBC\n",
            " 6 →  ADCB\n",
            " 7 →  BACD\n",
            " 8 →  BADC\n",
            " 9 →  BCAD\n",
            "10 →  BCDA\n",
            "11 →  BDAC\n",
            "12 →  BDCA\n",
            "13 →  CABD\n",
            "14 →  CADB\n",
            "15 →  CBAD\n",
            "16 →  CBDA\n",
            "17 →  CDAB\n",
            "18 →  CDBA\n",
            "19 →  DABC\n",
            "20 →  DACB\n",
            "21 →  DBAC\n",
            "22 →  DBCA\n",
            "23 →  DCAB\n",
            "24 →  DCBA\n"
          ]
        }
      ]
    },
    {
      "cell_type": "markdown",
      "source": [
        "##Práctica 1.3\n",
        "En la cena de nochevieja se juntan la familia de maria y la de luis, en la cual son en total de 12 personas. Luis calcuLó mal  y solo habia 6 sillas para todos, por lo que decidieron turnarse entre ellos a excepción de los 2 abuelos de María que no pueden estar de pie. ¿De cuántas maneras pueden sentarse los miembros de la familia restantes si hay 4 sitios disponibles?"
      ],
      "metadata": {
        "id": "BI1XLm37WU4t"
      }
    },
    {
      "cell_type": "markdown",
      "source": [
        "### Solución 1.3"
      ],
      "metadata": {
        "id": "AfyuPIASj_20"
      }
    },
    {
      "cell_type": "markdown",
      "source": [
        "Estamos ante un caso de variacion sin repetición ya que:  \n",
        "* Los sitios son diferentes.  \n",
        "* Nadie se puede sentar en más de un sitio.  \n",
        "* Estamos en un caso de variaciones de  elementos tomados de 4 en 4 .\n",
        "\n",
        "\n",
        "\n",
        "\n"
      ],
      "metadata": {
        "id": "7VEZa_zBVatZ"
      }
    },
    {
      "cell_type": "code",
      "source": [
        "import math #EJERCICIO 2 COMBINATORIA\n",
        "\n",
        "print (\"Las variaciones de 10 elementos tomados de 4 en 4 son: : \", end=\"\")\n",
        "print (math.factorial(10)/math.factorial(10-4))\n",
        "print(\"Comprobación: 10x9x8x7=\",10*9*8*7)\n"
      ],
      "metadata": {
        "colab": {
          "base_uri": "https://localhost:8080/"
        },
        "id": "5k--iWW1UvfH",
        "outputId": "ace310c0-7653-4e3b-ef04-17c2af754764"
      },
      "execution_count": 122,
      "outputs": [
        {
          "output_type": "stream",
          "name": "stdout",
          "text": [
            "Las variaciones de 10 elementos tomados de 4 en 4 son: : 5040.0\n",
            "Comprobación: 10x9x8x7= 5040\n"
          ]
        }
      ]
    },
    {
      "cell_type": "markdown",
      "source": [
        "## Práctica 1.4\n",
        "¿Cuántos números de 3 dígitos se pueden formar con las cifras 1, 2, 3, 4, 5, 6, 7 en caso de que se permitan repeticién entre ellos?"
      ],
      "metadata": {
        "id": "9TRXU1Wyfyd_"
      }
    },
    {
      "cell_type": "markdown",
      "source": [
        "### Solución 1.4"
      ],
      "metadata": {
        "id": "hzvsgRDbkCy1"
      }
    },
    {
      "cell_type": "markdown",
      "source": [
        "Caculamos cuántos números de 3 dígitos se pueden formar con las anteriores 7 cifras. Debido a que se permite la repetición de estos números se trata de una variación con repetición, la cual se calcula mediante la potencia de n elementos tomados de k en k, y se notaran 𝑘 al número de grupos de tamaño k que se pueden formar a partir de un conjunto base de n elementos de modo que cada elemento del grupo puede aparecer hasta k veces.  $n^k $ = $ 7^3 $"
      ],
      "metadata": {
        "id": "wS4_kbBbh-_M"
      }
    },
    {
      "cell_type": "code",
      "source": [
        "import math #EJERCICIO 3 COMBINATORIA\n",
        "result=pow(7,3)\n",
        "print(result,\"números de 3 dígitos.\")\n",
        "\n"
      ],
      "metadata": {
        "colab": {
          "base_uri": "https://localhost:8080/"
        },
        "id": "Af6Ua9pAggYG",
        "outputId": "791e07ce-fd73-47eb-a1f4-ac4c9c92dcba"
      },
      "execution_count": 123,
      "outputs": [
        {
          "output_type": "stream",
          "name": "stdout",
          "text": [
            "343 números de 3 dígitos.\n"
          ]
        }
      ]
    },
    {
      "cell_type": "markdown",
      "source": [
        "## Práctica 1.5\n",
        "Un grupo de amigos de 2 chicas 3 chicos y el hermano de uno de ellos estan jugando en el recreo del colegio, hasta que todos de tanto jugar se cansan y se quieren sentar en su banco de todos los dias.\n",
        "¿De cuántas maneras pueden sentarse  si hay 6 sitios disponibles?"
      ],
      "metadata": {
        "id": "O5cO6JOFd74I"
      }
    },
    {
      "cell_type": "markdown",
      "source": [
        "### Solución 1.5"
      ],
      "metadata": {
        "id": "FvLcj6XXkFOV"
      }
    },
    {
      "cell_type": "markdown",
      "source": [
        "Calculamos las permutaciones de 6 elementos, que son $6!=6*5*4*3*2*1=720.$ Se pueden sentar de *720* formas diferentes.\n",
        "\n",
        "\n",
        "\n",
        "\n"
      ],
      "metadata": {
        "id": "tZhtlzzde3P9"
      }
    },
    {
      "cell_type": "code",
      "source": [
        "import math #EJERCICIO 4 COMBINATORIA\n",
        "  \n",
        "print (\"El factorial de 6 es: \", end=\"\")\n",
        "print (math.factorial(6))"
      ],
      "metadata": {
        "colab": {
          "base_uri": "https://localhost:8080/"
        },
        "id": "11yEMA80d5Q4",
        "outputId": "8338edfb-e094-4241-ba14-f6b3bdd81e2d"
      },
      "execution_count": 124,
      "outputs": [
        {
          "output_type": "stream",
          "name": "stdout",
          "text": [
            "El factorial de 6 es: 720\n"
          ]
        }
      ]
    },
    {
      "cell_type": "markdown",
      "source": [
        "## Práctica 1.6\n",
        "Escribe y genera todas las combinaciones posibles de 4 dados si estos tienen [1, 2, 3, 4] números."
      ],
      "metadata": {
        "id": "YWUXIczqLj3W"
      }
    },
    {
      "cell_type": "markdown",
      "source": [
        "### Solución 1.6"
      ],
      "metadata": {
        "id": "siAxWVVekHs6"
      }
    },
    {
      "cell_type": "markdown",
      "source": [
        "Estamos ante un caso de permutación sin repetición ya que: \n",
        "\n",
        "*  El orden no importa \n",
        "*  Intervienen todos\n",
        "*  El número de elementos en los conjuntos que se desean formar coincide con los del conjunto base\n",
        "\n",
        "\n",
        "\n",
        "\n",
        "\n",
        "\n",
        "\n",
        "\n",
        "\n",
        "\n"
      ],
      "metadata": {
        "id": "FjFOA8enu_0j"
      }
    },
    {
      "cell_type": "code",
      "source": [
        "lista = ['1 ', '2 ', '3 ', '4 '] #EJERCICIO 5 DE COMBINATORIA\n",
        "contador = 1\n",
        "\n",
        "for i in lista:\n",
        "    for j in lista:\n",
        "        for k in lista:\n",
        "            for l in lista:\n",
        "                print(f\"{contador:2d} → {i + j + k + l}\")\n",
        "                contador += 1\n",
        "\n"
      ],
      "metadata": {
        "id": "RUzrEXRhnmH1"
      },
      "execution_count": null,
      "outputs": []
    },
    {
      "cell_type": "markdown",
      "source": [
        "## Práctica 1.7\n",
        "Pablo decide comprar dos camisetas de máximo dos colores en las cuales están disponibles los siguientes:\n",
        "\n",
        "Rojo (R)\n",
        "Cian (C)\n",
        "Verde (V)\n",
        "Lila (L)\n",
        "Amarillo (A)\n",
        "Morado (M)\n",
        "Negro (N)\n",
        "¿De cuántas maneras diferentes puede escoger dos colores?"
      ],
      "metadata": {
        "id": "opCrIDtJGg1R"
      }
    },
    {
      "cell_type": "markdown",
      "source": [
        "### Solución 1.7"
      ],
      "metadata": {
        "id": "Zs46BsRnkJcl"
      }
    },
    {
      "cell_type": "markdown",
      "source": [
        "Estamos ante un caso de combinaciones sin repetición ya que:\n",
        "* El orden no importa, no es relevante el orden en el que se escogen ya que es lo mismo escoger el color verde y Amarillo y otra con Negro y Rojo y viceversa.\n",
        "* No se repiten elementos. \n",
        "* No intervienen todos. Son 7 colores y solo 2 pueden ser elegidos."
      ],
      "metadata": {
        "id": "cnXsnxVjlVrU"
      }
    },
    {
      "cell_type": "code",
      "source": [
        "Sabores = [\"Rosa \",\"Cian \",\"Verde \",\"Lila \",\"Amarillo \",\"Morado \",\"Negro \",]#EJERCICIO 6 COMBINATORIA\n",
        "from itertools import combinations\n",
        "n = 0\n",
        "combi = []\n",
        "\n",
        "while n < len(Sabores):\n",
        "    for i in Sabores:\n",
        "        for g in Sabores:\n",
        "            if i != g and g + i not in combi:\n",
        "                c = i + g\n",
        "                combi.append(c)\n",
        "                n += 1\n",
        "                print (n,c)"
      ],
      "metadata": {
        "colab": {
          "base_uri": "https://localhost:8080/"
        },
        "id": "qUYJpqvVtvjS",
        "outputId": "c7262f33-6ecd-4080-ebcd-ff9d4722f710"
      },
      "execution_count": 126,
      "outputs": [
        {
          "output_type": "stream",
          "name": "stdout",
          "text": [
            "1 Rosa Cian \n",
            "2 Rosa Verde \n",
            "3 Rosa Lila \n",
            "4 Rosa Amarillo \n",
            "5 Rosa Morado \n",
            "6 Rosa Negro \n",
            "7 Cian Verde \n",
            "8 Cian Lila \n",
            "9 Cian Amarillo \n",
            "10 Cian Morado \n",
            "11 Cian Negro \n",
            "12 Verde Lila \n",
            "13 Verde Amarillo \n",
            "14 Verde Morado \n",
            "15 Verde Negro \n",
            "16 Lila Amarillo \n",
            "17 Lila Morado \n",
            "18 Lila Negro \n",
            "19 Amarillo Morado \n",
            "20 Amarillo Negro \n",
            "21 Morado Negro \n"
          ]
        }
      ]
    },
    {
      "cell_type": "markdown",
      "source": [
        "## Práctica 1.8\n",
        "Una taqueria ofrece seis ingredientes para añadir a una tortilla de maiz o de trigo:\n",
        "\n",
        "* Pollo\n",
        "* Queso\n",
        "* Sudadero\n",
        "* Cerdo\n",
        "* Ternera\n",
        "* Jalapeño\n",
        "\n",
        "Si la oferta consiste en añadir dos ingredientes, ¿cuántos tacos diferentes se pueden elaborar? "
      ],
      "metadata": {
        "id": "-7Y5WWlDGzAR"
      }
    },
    {
      "cell_type": "markdown",
      "source": [
        "### Solución 1.8"
      ],
      "metadata": {
        "id": "ReRULqd8kL1F"
      }
    },
    {
      "cell_type": "markdown",
      "source": [
        "Estamos ante un caso de combinaciones con repetición ya que:\n",
        "* El orden no importa, no es relevante el orden en el que se escogen los ingredientes.\n",
        "* No intervienen todos.Son 6 ingradientes y solo 2 pueden ser elegidos.\n",
        "* Si se repiten elementos. La persona puede escoger dos veces el mismo ingrediente."
      ],
      "metadata": {
        "id": "brgb216LqhFT"
      }
    },
    {
      "cell_type": "code",
      "source": [
        "from itertools import combinations #EJERCICIO 7 DE COMBINATORIA\n",
        "\n",
        "ingredientes = [\"Pollo \",\"Queso \",\"Sudadero \",\"Cerdo \",\"Ternera \",\"Jalapeño \"]\n",
        "\n",
        "n = 0\n",
        "combi = []\n",
        "\n",
        "while n < len(ingredientes):\n",
        "    for i in ingredientes:\n",
        "        for g in ingredientes:\n",
        "            if  g + i not in combi:\n",
        "                c = i + g\n",
        "                combi.append(c)\n",
        "                n += 1\n",
        "                print (n,c)\n",
        "  "
      ],
      "metadata": {
        "colab": {
          "base_uri": "https://localhost:8080/"
        },
        "id": "_iJ5zs1KhqP9",
        "outputId": "1e2695dc-c08a-4124-c6fc-8bac144c4079"
      },
      "execution_count": 127,
      "outputs": [
        {
          "output_type": "stream",
          "name": "stdout",
          "text": [
            "1 Pollo Pollo \n",
            "2 Pollo Queso \n",
            "3 Pollo Sudadero \n",
            "4 Pollo Cerdo \n",
            "5 Pollo Ternera \n",
            "6 Pollo Jalapeño \n",
            "7 Queso Queso \n",
            "8 Queso Sudadero \n",
            "9 Queso Cerdo \n",
            "10 Queso Ternera \n",
            "11 Queso Jalapeño \n",
            "12 Sudadero Sudadero \n",
            "13 Sudadero Cerdo \n",
            "14 Sudadero Ternera \n",
            "15 Sudadero Jalapeño \n",
            "16 Cerdo Cerdo \n",
            "17 Cerdo Ternera \n",
            "18 Cerdo Jalapeño \n",
            "19 Ternera Ternera \n",
            "20 Ternera Jalapeño \n",
            "21 Jalapeño Jalapeño \n"
          ]
        }
      ]
    },
    {
      "cell_type": "markdown",
      "source": [
        "## Práctica 1.9\n",
        "En el gobierno se crea una unidad de crisis formada por el presidente (P) y 4 ministros (A,B,C,D) que se reúnen sentados alrededor de una **mesa redonda**.\n",
        "\n",
        "Se pide:  \n",
        "1. Calcule de cuantas formas pueden llegar a sentarse si el ministro de defensa (D) siempre ha de estar al lado del presidente (P). Escriba la solución en una celda de Markdown utilizando fórmulas en $\\LaTeX$  explicando el caso.\n",
        "2. Cree un programa en Python para calcular el número de casos que se pueden dar al sentarse en la mesa.\n",
        "3. Cree un programa en Python para imprimir todas las posibilidades y numérelas. Por ejemplo:\n",
        "    - 1 PDABC\n",
        "    - 2 PDACB\n",
        "    - 3 PDBCD\n",
        "    - 4 PDBDC\n",
        "    - 5 PDCAB\n",
        "    - 6 PDCBA\n",
        "    - 7 DPABC\n",
        "    - 8 DPACB\n",
        "    - &#20; &#20; &#20; ... ... ...\n"
      ],
      "metadata": {
        "id": "SOzxh_YgHnDG"
      }
    },
    {
      "cell_type": "markdown",
      "source": [
        "### Solución 1.9"
      ],
      "metadata": {
        "id": "F8kV034OkQZX"
      }
    },
    {
      "cell_type": "markdown",
      "source": [
        "Al conjunto de presidente y vicepresidente, que siempre tienen que estar juntos les llamaremos la Presidencia, que actúa dentro de la mesa circular como si fueran un único elemento. Por ello, la forma de colocar 4 elementoS alrededor de la mesa circular es: \n",
        "\n",
        " $PC_5=(5−1)!=4!=4*3*2*1=24$\n",
        "\n",
        "Por otro lado, la Presidencia formada por el conjunto del presidente y el ministro pueden permutarse entre sí, de forma que en un caso el presidente tendría al ministro a su derecha y en el otro caso lo tendría a su izquierda. \n",
        "\n",
        "$𝑃_2=2!=2*1=2$\n",
        "\n",
        "Puesto que ambos sucesos son independientes y suceden simultáneamente se relacionan de forma multiplicativa, se aplica la regla del producto. Por tanto, el resultado es el producto de ambos sucesos: \n",
        "\n",
        "$𝑃𝐶_5*𝑃_2=24*2=48$"
      ],
      "metadata": {
        "id": "26n4jjI0r_TC"
      }
    },
    {
      "cell_type": "code",
      "source": [
        "def factorial1(num1): #EJERCICIO 8 COMBINATORIA\n",
        "    if num1 < 0: \n",
        "        print(\"Factorial of negative num does not exist\")\n",
        "\n",
        "    elif num1 == 0: \n",
        "        return 1\n",
        "        \n",
        "    else: \n",
        "        fact = 1\n",
        "        while(num1 > 1): \n",
        "            fact *= num1 \n",
        "            num1 -= 1\n",
        "        return fact \n",
        "\n",
        "num1 = 4-1; \n",
        "\n",
        "print(\"El factorial de\",num1,\"es\", factorial1(num1))\n",
        "\n",
        "def factorial2(num2): \n",
        "    if num2 < 0: \n",
        "        print(\"El factorial of negative num does not exist\")\n",
        "\n",
        "    elif num2 == 0: \n",
        "        return 1\n",
        "        \n",
        "    else: \n",
        "        fact = 1\n",
        "        while(num2 > 1): \n",
        "            fact *= num2\n",
        "            num2 -= 1\n",
        "        return fact \n",
        "num2 = 2; \n",
        "\n",
        "print(\"El factorial de\",num2,\"es\", factorial2(num2))\n",
        "\n",
        "result=factorial1(num1)*factorial2(num2)\n",
        "print(\"Resultado:\",result)\n",
        "\n",
        "\n",
        "\n"
      ],
      "metadata": {
        "colab": {
          "base_uri": "https://localhost:8080/"
        },
        "id": "sMf9XuWPTnl4",
        "outputId": "10041d37-d88d-4e00-c059-d34fcbf3584a"
      },
      "execution_count": 128,
      "outputs": [
        {
          "output_type": "stream",
          "name": "stdout",
          "text": [
            "El factorial de 3 es 6\n",
            "El factorial de 2 es 2\n",
            "Resultado: 12\n"
          ]
        }
      ]
    },
    {
      "cell_type": "markdown",
      "source": [
        "## Práctica 1.10\n",
        "* Realice una breve explicación teórica del **triángulo de Pascal**, o también llamado triángulo de Tartaglia, y de las fórmulas de los números combinatorios.\n",
        "* Cree un programa en Python para hacer el triángulo de Pascal."
      ],
      "metadata": {
        "id": "eiHdMOP-MkrZ"
      }
    },
    {
      "cell_type": "markdown",
      "source": [
        "### Solución 1.10"
      ],
      "metadata": {
        "id": "j0UT2579kTSM"
      }
    },
    {
      "cell_type": "markdown",
      "source": [
        "En las matemáticas, el *triángulo de Pascal* es una representación de los coeficientes binomiales ordenados en forma de triángulo. Es llamado así en honor al filósofo y matemático francés **Blaise Pascal**, quien introdujo esta notación en 1654, en su Tratado del triángulo aritmético.\n",
        "La construcción del triángulo está relacionada con los coeficientes binomiales según la fórmula (también llamada regla de Pascal) combinatoria. Esta fórmula o regla explica que los coeficientes (nodos del \"árbol\") de una fila dada del triángulo, se pueden calcular con la fórmula combinatoria de combinaciones de $n$ elementos de $k$;  expresado matemáticamente: $\\binom{n}{k}$\n",
        "dónde n es la fila $- 1$ y $k$ la posición en la fila.\n",
        "\n",
        "\n",
        "\n"
      ],
      "metadata": {
        "id": "Q3nUjvsa1x4L"
      }
    },
    {
      "cell_type": "code",
      "source": [
        "num = int(input(\"Enter the number of rows:\")) #EJERCICIO 9 COMBINATORIA\n",
        "\n",
        "for n in range(num):\n",
        "    print(' '*(num-n), end='')\n",
        "\n",
        "    print(' '.join(map(str, str(11**n))))"
      ],
      "metadata": {
        "colab": {
          "base_uri": "https://localhost:8080/"
        },
        "id": "iSbLnwSf1sHS",
        "outputId": "f6826d3e-fc94-4919-ad62-ed38adca9076"
      },
      "execution_count": 129,
      "outputs": [
        {
          "output_type": "stream",
          "name": "stdout",
          "text": [
            "Enter the number of rows:6\n",
            "      1\n",
            "     1 1\n",
            "    1 2 1\n",
            "   1 3 3 1\n",
            "  1 4 6 4 1\n",
            " 1 6 1 0 5 1\n"
          ]
        }
      ]
    }
  ]
}