{
  "nbformat": 4,
  "nbformat_minor": 0,
  "metadata": {
    "colab": {
      "provenance": [],
      "include_colab_link": true
    },
    "kernelspec": {
      "name": "python3",
      "display_name": "Python 3"
    },
    "language_info": {
      "name": "python"
    }
  },
  "cells": [
    {
      "cell_type": "markdown",
      "metadata": {
        "id": "view-in-github",
        "colab_type": "text"
      },
      "source": [
        "<a href=\"https://colab.research.google.com/github/rmarinso/matematicas/blob/main/grafos/practica_grafos.ipynb\" target=\"_parent\"><img src=\"https://colab.research.google.com/assets/colab-badge.svg\" alt=\"Open In Colab\"/></a>"
      ]
    },
    {
      "cell_type": "markdown",
      "source": [
        "# Práctica 2. Grafos"
      ],
      "metadata": {
        "id": "s28_pETXts4V"
      }
    },
    {
      "cell_type": "markdown",
      "source": [
        "## Práctica 2.1\n",
        "**Algoritmo de Dijkstra**\n",
        "\n",
        "1. Mira estos vídeos:\n",
        " * [Algoritmo de DIJKSTRA ruta corta](https://youtu.be/6rl0ghgPfK0)\n",
        " * [Ruta mas corta en una red, algoritmo de Dijkstra](https://youtu.be/rh02c7v3EKY)\n",
        "2. ¿Qué utilidad tiene el algoritmo?\n",
        "3. Explique el algoritmo.\n",
        "4. De un ejemplo de un grafo resuelto con el algoritmo de Dijkstra.\n",
        "* Muestre la imagen del grafo con sus:\n",
        "  - nodos\n",
        "  - aristas (con flecha si son orientadas)\n",
        "  - pesos (distancias o costes)\n",
        "* Muestre nuevamente la imagen del grafo pero en esta ocasión con la solución."
      ],
      "metadata": {
        "id": "6Gr8mAWDxCdq"
      }
    },
    {
      "cell_type": "markdown",
      "source": [
        "####RESULTADO 2.1\n",
        "**1. ¿Qué utilidad tiene el algoritmo?**  \n",
        "El algoritmo de Dijkstra  permite calcular la ruta más corta entre un nodo  y todos los demás nodos en el grafo. Trata de ir explorando todos los caminos más cortos\n",
        "que parten de un vértice origen y recorre todos los\n",
        "demás vértices. Cuando se obtiene el camino mas\n",
        "corto desde el vértice origen, al resto de vértices que\n",
        "componen el grafo, el algoritmo se detiene.  \n",
        "Este algoritmo encuentra las distancias más cortas\n",
        "desde un vértice de origen a todos los demás\n",
        "vértices en un grafo ponderado conexo. Se debe de\n",
        "recalcar que las aristas debe de ser con valores\n",
        "positivos y que este algoritmo no funciona para\n",
        "valores negativos para ese tipo de grafos se utiliza el\n",
        "algoritmo Bellmand-Ford.  \n",
        "Este procedimiento es un ejemplo de algoritmo voraz,\n",
        "ya que lo obtenemos como el mejor resultado\n",
        "localmente, se convierte en el mejor resultado\n",
        "globalmente.\n",
        "\n",
        "  \n",
        "  **2. Explique el algoritmo.**  \n",
        "   \n",
        "   Sea x el nodo inicial (nodo fuente del grafo), un vector D de tamaño N\n",
        "guardará al final del algoritmo las distancias desde x al resto de los nodos.\n",
        " 1.  Inicializar todas las distancias en D con un valor infinito relativo (∞,-)\n",
        "ya que son desconocidas al principio, exceptuando la de x que se\n",
        "debe colocar en 0 debido a que la distancia de x a x sería 0 (0,-).\n",
        " 2. Sea a = x (tomamos a como nodo actual).\n",
        " \n",
        " 3. Recorremos todos los nodos adyacentes de a, excepto los nodos\n",
        "marcados, llamaremos a estos vi.\n",
        " 4. Si la distancia desde x hasta vi guardada en D es mayor que la\n",
        "distancia desde x hasta a sumada a la distancia desde a hasta vi; ésta\n",
        "se sustituye con la segunda nombrada, esto es:\n",
        "si (Di > Da + d(a, vi)) entonces Di = Da + d(a, vi)\n",
        " 5. Marcamos como completo el nodo a.\n",
        " 6. Tomamos como próximo nodo actual el de menor valor en D\n",
        "(puede hacerse almacenando los valores en una cola de prioridad) y\n",
        "volvemos al paso 3 mientras existan nodos no marcados.\n",
        " 7. Una vez terminado al algoritmo, D estará completamente lleno.\n",
        "  \n",
        "**3. De un ejemplo de un grafo resuelto con el algoritmo de Dijkstra.**  \n",
        "  <img src=\"https://www.ingenieriaindustrialonline.com/wp-content/uploads/2019/06/Sin-t%C3%ADtulo-302.png\" width=\"400\"/>\n",
        "      \n",
        "  <img src=\"https://www.ingenieriaindustrialonline.com/wp-content/uploads/2019/06/Sin-t%C3%ADtulo-311.png\" width=\"400\"/>\n",
        "\n",
        "\n",
        "\n",
        "\n",
        "\n",
        "\n",
        "\n",
        "\n"
      ],
      "metadata": {
        "id": "V4gvgKbdIkXD"
      }
    },
    {
      "cell_type": "markdown",
      "source": [
        "## Práctica 2.2\n",
        "Vea el video:\n",
        "\n",
        "* [Camino mas corto Solver](https://youtu.be/LYeMWlTfOgA)\n",
        "\n",
        "Se pide:  \n",
        "1. Replique en un archivo de Excel el caso del vídeo, en la Hoja 1. En el método de resolución de Solver elija el método Simplex.\n",
        "2. En la Hoja 2, aplique esa metodología usando Solver a otro grafo de su invención. Dibuje el grafo, con sus nodos, flechas y pesos, y resuélvalo.\n",
        "3. Suba el archivo de Excel creado a la tarea del Aula Virtual."
      ],
      "metadata": {
        "id": "In4IULDcx1Az"
      }
    },
    {
      "cell_type": "markdown",
      "source": [
        "## Práctica 2.3\n",
        "1. Muestre el enlace a alguna página donde se de el algoritmo de Dijkstra programado en **Python**.\n",
        "2. Pruebe su código con algún grafo de ejemplo."
      ],
      "metadata": {
        "id": "Dp_Eb4ORzqg4"
      }
    },
    {
      "cell_type": "markdown",
      "source": [
        "####RESULTADO 2.3\n",
        "1. **Algoritmo de Dijstra** (enlace)\n",
        "  \n",
        "  https://es.stackoverflow.com/questions/316880/una-pregunta-acerca-del-siguiente-c%C3%B3digo-en-python-del-algoritmo-de-dijkstra"
      ],
      "metadata": {
        "id": "M1nVjE3kOIqs"
      }
    },
    {
      "cell_type": "code",
      "source": [
        "#EJEMPLO Algoritmo de Dijstra\n",
        "class Graph:  \n",
        "\n",
        "    def minDistance(self, dist, queue):\n",
        "        minimum = float(\"Inf\")\n",
        "        min_index = -1\n",
        "\n",
        "        for i in range(len(dist)):\n",
        "            if dist[i] < minimum and i in queue:\n",
        "                minimum = dist[i]\n",
        "                min_index = i\n",
        "        return min_index\n",
        "\n",
        "    def printPath(self, parent, j):\n",
        "\n",
        "        # Base Case : If j is source\n",
        "        if parent[j] == -1:\n",
        "            print (j),\n",
        "            return\n",
        "        self.printPath(parent, parent[j])\n",
        "        print (j),\n",
        "\n",
        "    def printSolution(self, dist, parent):\n",
        "        src = 0\n",
        "        print(\"Vertex \\t\\tDistance from Source\\tPath\")\n",
        "        for i in range(1, len(dist)):\n",
        "            print(\"\\n%d --> %d \\t\\t%g \\t\\t\\t\\t\\t\" % (src, i, dist[i])),\n",
        "            self.printPath(parent, i)\n",
        "\n",
        "    def dijkstra(self, graph, src):\n",
        "\n",
        "        row = len(graph)\n",
        "        col = len(graph[0])\n",
        "\n",
        "        dist = [float(\"Inf\")] * row\n",
        "\n",
        "        parent = [-1] * row\n",
        "\n",
        "        dist[src] = 0\n",
        "\n",
        "        queue = []\n",
        "        for i in range(row):\n",
        "            queue.append(i)\n",
        "\n",
        "        while queue:\n",
        "            u = self.minDistance(dist, queue)\n",
        "            queue.remove(u)\n",
        "            for i in range(col):\n",
        "                if graph[u][i] and i in queue:\n",
        "                    if dist[u] + graph[u][i] < dist[i]:\n",
        "                        dist[i] = dist[u] + graph[u][i]\n",
        "                        parent[i] = u\n",
        "\n",
        "\n",
        "        self.printSolution(dist, parent)\n",
        "\n",
        "\n",
        "g = Graph()\n",
        "\n",
        "graph = [[0, 4, 0, 0, 0, 0, 0, 8, 0],\n",
        "         [4, 0, 8, 0, 0, 0, 0, 11, 0],\n",
        "         [0, 8, 0, 7, 0, 4, 0, 0, 2],\n",
        "         [0, 0, 7, 0, 9, 14, 0, 0, 0],\n",
        "         [0, 0, 0, 9, 0, 10, 0, 0, 0],\n",
        "         [0, 0, 4, 14, 10, 0, 2, 0, 0],\n",
        "         [0, 0, 0, 0, 0, 2, 0, 1, 6],\n",
        "         [8, 11, 0, 0, 0, 0, 1, 0, 7],\n",
        "         [0, 0, 2, 0, 0, 0, 6, 7, 0]]\n",
        "\n",
        "g.dijkstra(graph, 0)"
      ],
      "metadata": {
        "id": "k7a1a4sRShjT"
      },
      "execution_count": null,
      "outputs": []
    },
    {
      "cell_type": "markdown",
      "source": [
        "## Práctica 2.4\n",
        "* Dibuja un grafo que tenga un mínimo de 6 nodos\n",
        "* Crea en **Python** su **matriz de adyacencia**\n",
        "* Crea en Python su **lista de adyacencia**\n",
        "* ¿Son cero todos los elementos de la diagonal principal?\n",
        " - En qué caso serían todos cero y en qué caso no.\n",
        "* ¿Es una matriz simétrica?\n",
        " - En qué caso sería simétrica y en qué caso no.\n",
        "* Usando Python, suma todos los valores de la matriz\n",
        "* Comprueba si funcionan bien o no los siguientes códigos:\n",
        " - El primero permite convertir una matriz de adyacencia en una lista de adyacencia.\n",
        " - El segundo permite convertir una lista de adyacencia en una matriz de adyacencia.\n",
        "* Dibuja el grafo del ejemplo que se usa en este código."
      ],
      "metadata": {
        "id": "r8s1WapAnHlw"
      }
    },
    {
      "cell_type": "code",
      "source": [
        "def convert_to_adjacency(matrix):\n",
        "    start = 0\n",
        "    res = []\n",
        "    lst = []\n",
        "    n = len(matrix)\n",
        "    for i in range(n):\n",
        "        res.append(lst*n)\n",
        "    while start < n:\n",
        "        y = matrix[start]\n",
        "        for i in range(len(y)):\n",
        "            if y[i]==1:\n",
        "                res[start].append(i)\n",
        "        start +=1\n",
        "    return res\n",
        "\n",
        "matrix =[[0,1,1,1,0,1,1,0,0],[1,0,0,1,0,0,1,1,0],[1,0,0,1,0,0,0,0,0],[1,1,1,0,1,0,0,0,0],[0,0,0,1,0,1,0,0,1],[1,0,0,0,1,0,0,0,1],[1,1,0,0,0,0,0,0,0],[0,1,0,0,0,0,0,0,0],[0,0,0,0,1,1,0,0,0]]\n",
        "print(convert_to_adjacency(matrix))"
      ],
      "metadata": {
        "id": "DDM1R2YzO-c-",
        "colab": {
          "base_uri": "https://localhost:8080/"
        },
        "outputId": "31e1e6b9-acf4-48bd-aa8f-fef9af0dce52"
      },
      "execution_count": null,
      "outputs": [
        {
          "output_type": "stream",
          "name": "stdout",
          "text": [
            "[[1, 2, 3, 5, 6], [0, 3, 6, 7], [0, 3], [0, 1, 2, 4], [3, 5, 8], [0, 4, 8], [0, 1], [1], [4, 5]]\n"
          ]
        }
      ]
    },
    {
      "cell_type": "code",
      "source": [
        "def convert_to_matrix(graph):\n",
        "    matrix =[]\n",
        "    for i in range(len(graph)): \n",
        "        matrix.append([0]*len(graph))\n",
        "        for j in graph[i]:\n",
        "            matrix[i][j]=1\n",
        "    return matrix\n",
        "\n",
        "lst =[[1,2,3,5,6],[0,3,6,7],[0,3],[0,1,2,4],[3,5,8],[0,4,8],[0,1],[1],[4,5]]\n",
        "print(convert_to_matrix(lst))"
      ],
      "metadata": {
        "id": "TcrGI9GTQ-o2",
        "colab": {
          "base_uri": "https://localhost:8080/"
        },
        "outputId": "9b1fb266-42e5-44d6-de24-5ec215baaf89"
      },
      "execution_count": null,
      "outputs": [
        {
          "output_type": "stream",
          "name": "stdout",
          "text": [
            "[[0, 1, 1, 1, 0, 1, 1, 0, 0], [1, 0, 0, 1, 0, 0, 1, 1, 0], [1, 0, 0, 1, 0, 0, 0, 0, 0], [1, 1, 1, 0, 1, 0, 0, 0, 0], [0, 0, 0, 1, 0, 1, 0, 0, 1], [1, 0, 0, 0, 1, 0, 0, 0, 1], [1, 1, 0, 0, 0, 0, 0, 0, 0], [0, 1, 0, 0, 0, 0, 0, 0, 0], [0, 0, 0, 0, 1, 1, 0, 0, 0]]\n"
          ]
        }
      ]
    },
    {
      "cell_type": "markdown",
      "source": [
        "## Práctica 2.5\n",
        "**Árboles binarios**\n",
        "* Mira este vídeo: [¿Qué son los ÁRBOLES BINARIOS y por qué son tan geniales?](https://youtu.be/lMTaNbJAqvM)\n",
        "* ¿Qué son los **árboles binarios de búsqueda**? (en inglés: BST (Binary Search Tree))\n",
        "* Mira este vídeo: [Recorrido de Árboles Binarios](https://youtu.be/WCiwBrj8EQY)\n",
        "* Qué significa recorrer el árbol en:\n",
        " - preorden\n",
        " - inorden\n",
        " - postorden\n",
        "* Al BST del vídeo anterior añadele dos nodos de tu elección, de forma que continúe siendo un BST, dibujalo (poniendo en color azul claro los dos nodos nuevos) y da su recorrido en:\n",
        " - preorden\n",
        " - inorden (observa que en este caso los nodos deben quedar **ordenados** de menor a mayor)\n",
        " - postorden\n",
        "* ¿Por qué los BST son importantes en ciencias de la computación?\n",
        "* Pon un link a una página o vídeo que trate este tema en **Python**.\n",
        "* ¿Has probado el código en Python que comentas? ¿Funciona con el BST que has puesto como ejemplo?"
      ],
      "metadata": {
        "id": "KciKQEh-DIxH"
      }
    },
    {
      "cell_type": "markdown",
      "source": [
        "RESULTADO 2.5  \n",
        "**ÁRBOLES BINARIOS**\n",
        "  \n",
        "Un árbol binario es un conjunto de elementos cada uno de los cuales de denomina nodo. Si un nodo no contiene datos, se dice que es un nodo externo, de lo contrario lo denominamos nodo interno.\n",
        "\n",
        "Un árbol binario es una estructura de dato no lineal en la que cada nodo puede apuntar a uno o máximo dos nodos, por ello el nombre \"binario\".  \n",
        "Los árboles binarios de búsqueda, son un tipo especial de árbol binario cuya característica radica en la forma ordenada de insertar sus elementos, facilitando así la búsqueda de un nodo en particular.   \n",
        "La forma en la que se ordenan los nodos es la siguiente:\n",
        "* la rama de la izquierda contendrá elementos menores\n",
        "* la rama de la derecha contendrá elementos mayores\n",
        "\n",
        "<img src=\"https://upload.wikimedia.org/wikipedia/commons/thumb/d/da/Binary_search_tree.svg/420px-Binary_search_tree.svg.png\" width=\"200\"/>\n",
        "\n",
        "\n",
        "**RECORRIDO DE ÁRBOLES BINARIOS**\n",
        "  \n",
        "Los árboles binarios  son considerados como estructuras de datos jerárquicas y como tal su forma de recorrerlos difiere sustancialmente.El recorrido de un árbol binario se lleva a cabo en tres sentidos: Preorden, Inorden y Postorden.\n",
        "\n",
        "* PREORDEN  \n",
        "El recorrido en preorden consiste, en primer lugar, en examinar el dato del nodo raíz, posteriormente se recorre el subárbol derecho en preorden y luego el subárbol izquierdo en preorden.\n",
        "* INORDEN  \n",
        "El recorrido en Inorden consiste en recorrer el subárbol izquierdo en Inorden, luego se examina el dato del nodo raíz, y finalmente se recorre el subárbol derecho en Inorden.\n",
        "* POSORDEN  \n",
        "El recorrido en postorden consiste en recorrer el subárbol izquierdo en postorden, luego el subárbol derecho en postorden, y finalmente examinar el dato del nodo raíz  \n",
        "\n",
        "**IMPORTANCIA DE LAS BTS EN LA COMPUTACIÓN**  \n",
        "  \n",
        "  La búsqueda en árboles binarios es un método de búsqueda simple, dinámico y eficiente considerado como uno de los fundamentales en Ciencia de la Computación.   \n",
        "  \n",
        "El **Árbol de Búsqueda Binaria** puede llegar a ser tan grande dependiendo de la información que se necesite procesar, por lo que la complejidad de los algoritmos que se deben aplicar a esta estructura es de vital importancia, y aunque estos algoritmos están bastante optimizados para que su Complejidad  en el peor de los casos llegue al orden de Θ (log n), lo que es  considerado un comportamiento de  crecimiento aceptable  en comparación con Θ (n²) o Θ (n³), aun se sigue investigando para reducir esta complejidad por la necesidad de almacenar mucho mas información de la que hasta la actualidad se esta manejando en estas estructuras.\n",
        "\n",
        "Una característica interesante de estos arboles de búsqueda  es que a partir de un nodo raíz (x), los nodos que se encuentren a la izquierda de este nodo  son los más pequeños en valor y los que se encuentran a la derecha son  valores más grandes.  \n",
        "\n",
        "**BTS en Python**  \n",
        "https://pythondiario.com/2018/07/arbol-binario-de-busqueda-estructura-de.html\n",
        "  \n",
        "  \n",
        "  **COMPROBACIÓN DE CÓDIGO APORTADO**\n",
        "\n",
        "\n",
        "\n"
      ],
      "metadata": {
        "id": "DYn1fSq1N-K-"
      }
    },
    {
      "cell_type": "code",
      "source": [
        "from __future__ import print_function #FUNCIONA \n",
        "\n",
        "# Declaramos la clase \"Node\"\n",
        "class Node:\n",
        "\n",
        "    def __init__(self, label, parent):\n",
        "        self.label = label\n",
        "        self.left = None\n",
        "        self.right = None\n",
        "        self.parent = parent\n",
        "\n",
        "        # Métodos para asignar nodos\n",
        "    def getLabel(self):\n",
        "        return self.label\n",
        "\n",
        "    def setLabel(self, label):\n",
        "        self.label = label\n",
        "\n",
        "    def getLeft(self):\n",
        "        return self.left\n",
        "\n",
        "    def setLeft(self, left):\n",
        "        self.left = left\n",
        "\n",
        "    def getRight(self):\n",
        "        return self.right\n",
        "\n",
        "    def setRight(self, right):\n",
        "        self.right = right\n",
        "\n",
        "    def getParent(self):\n",
        "        return self.parent\n",
        "\n",
        "    def setParent(self, parent):\n",
        "        self.parent = parent\n",
        "\n",
        "\n",
        "class BinarySearchTree:\n",
        "\n",
        "    def __init__(self):\n",
        "        self.root = None\n",
        "\n",
        "    def insert(self, label):\n",
        "        # Creamos un nuevo nodo\n",
        "        new_node = Node(label, None)\n",
        "        # Si el árbol esta vacio\n",
        "        if self.empty():\n",
        "            self.root = new_node\n",
        "        else:\n",
        "            # Si el árbol no esta vacio\n",
        "            curr_node = self.root\n",
        "            while curr_node is not None:\n",
        "                parent_node = curr_node\n",
        "                if new_node.getLabel() < curr_node.getLabel():\n",
        "                    curr_node = curr_node.getLeft()\n",
        "                else:\n",
        "                    curr_node = curr_node.getRight()\n",
        "            if new_node.getLabel() < parent_node.getLabel():\n",
        "                parent_node.setLeft(new_node)\n",
        "            else:\n",
        "                parent_node.setRight(new_node)\n",
        "            new_node.setParent(parent_node)      \n",
        "    \n",
        "    # Operación de borrado\n",
        "    def delete(self, label):\n",
        "        if (not self.empty()):\n",
        "            node = self.getNode(label)\n",
        "            if(node is not None):\n",
        "                if(node.getLeft() is None and node.getRight() is None):\n",
        "                    self.__reassignNodes(node, None)\n",
        "                    node = None\n",
        "                elif(node.getLeft() is None and node.getRight() is not None):\n",
        "                    self.__reassignNodes(node, node.getRight())\n",
        "                elif(node.getLeft() is not None and node.getRight() is None):\n",
        "                    self.__reassignNodes(node, node.getLeft())\n",
        "                else:\n",
        "                    tmpNode = self.getMax(node.getLeft())\n",
        "                    self.delete(tmpNode.getLabel())\n",
        "                    node.setLabel(tmpNode.getLabel())\n",
        "    \n",
        "    def getNode(self, label):\n",
        "        curr_node = None\n",
        "        if(not self.empty()):\n",
        "            curr_node = self.getRoot()\n",
        "            while curr_node is not None and curr_node.getLabel() is not label:\n",
        "                if label < curr_node.getLabel():\n",
        "                    curr_node = curr_node.getLeft()\n",
        "                else:\n",
        "                    curr_node = curr_node.getRight()\n",
        "        return curr_node\n",
        "\n",
        "    def getMax(self, root = None):\n",
        "        if(root is not None):\n",
        "            curr_node = root\n",
        "        else:\n",
        "            curr_node = self.getRoot()\n",
        "        if(not self.empty()):\n",
        "            while(curr_node.getRight() is not None):\n",
        "                curr_node = curr_node.getRight()\n",
        "        return curr_node\n",
        "\n",
        "    def getMin(self, root = None):\n",
        "        if(root is not None):\n",
        "            curr_node = root\n",
        "        else:\n",
        "            curr_node = self.getRoot()\n",
        "        if(not self.empty()):\n",
        "            curr_node = self.getRoot()\n",
        "            while(curr_node.getLeft() is not None):\n",
        "                curr_node = curr_node.getLeft()\n",
        "        return curr_node\n",
        "\n",
        "    def empty(self):\n",
        "        if self.root is None:\n",
        "            return True\n",
        "        return False\n",
        "\n",
        "    def __InOrderTraversal(self, curr_node):\n",
        "        nodeList = []\n",
        "        if curr_node is not None:\n",
        "            nodeList.insert(0, curr_node)\n",
        "            nodeList = nodeList + self.__InOrderTraversal(curr_node.getLeft())\n",
        "            nodeList = nodeList + self.__InOrderTraversal(curr_node.getRight())\n",
        "        return nodeList\n",
        "\n",
        "    def getRoot(self):\n",
        "        return self.root\n",
        "\n",
        "    def __isRightChildren(self, node):\n",
        "        if(node == node.getParent().getRight()):\n",
        "            return True\n",
        "        return False\n",
        "\n",
        "    def __reassignNodes(self, node, newChildren):\n",
        "        if(newChildren is not None):\n",
        "            newChildren.setParent(node.getParent())\n",
        "        if(node.getParent() is not None):\n",
        "            if(self.__isRightChildren(node)):\n",
        "                node.getParent().setRight(newChildren)\n",
        "            else:\n",
        "                node.getParent().setLeft(newChildren)\n",
        "\n",
        "    def traversalTree(self, traversalFunction = None, root = None):\n",
        "        if(traversalFunction is None):\n",
        "            return self.__InOrderTraversal(self.root)\n",
        "        else:\n",
        "            return traversalFunction(self.root)\n",
        "\n",
        "    def __str__(self):\n",
        "        list = self.__InOrderTraversal(self.root)\n",
        "        str = \"\"\n",
        "        for x in list:\n",
        "            str = str + \" \" + x.getLabel().__str__()\n",
        "        return str\n",
        "\n",
        "def InPreOrder(curr_node):\n",
        "    nodeList = []\n",
        "    if curr_node is not None:\n",
        "        nodeList = nodeList + InPreOrder(curr_node.getLeft())\n",
        "        nodeList.insert(0, curr_node.getLabel())\n",
        "        nodeList = nodeList + InPreOrder(curr_node.getRight())\n",
        "    return nodeList\n",
        "\n",
        "# Función para probar las clases\n",
        "def testBinarySearchTree():\n",
        "    '''\n",
        "    Ejemplo\n",
        "                  8\n",
        "                 / \n",
        "                3   10\n",
        "               /     \n",
        "              1   6    14\n",
        "                 /    /\n",
        "                4   7 13 \n",
        "    '''\n",
        "\n",
        "    '''\n",
        "    Ejemplo luego del borrado\n",
        "                  7\n",
        "                 / \n",
        "                1   4\n",
        "\n",
        "    '''\n",
        "    # Instancia del árbol binario de búsqueda\n",
        "    t = BinarySearchTree()\n",
        "    #Insertamos los elementos\n",
        "    t.insert(8)\n",
        "    t.insert(3)\n",
        "    t.insert(6)\n",
        "    t.insert(1)\n",
        "    t.insert(10)\n",
        "    t.insert(14)\n",
        "    t.insert(13)\n",
        "    t.insert(4)\n",
        "    t.insert(7)\n",
        "\n",
        "    print(t.__str__())\n",
        "\n",
        "    if(t.getNode(6) is not None):\n",
        "        print(\"El elemento 6 existe\")\n",
        "    else:\n",
        "        print(\"El elemento 6 no existe\")\n",
        "\n",
        "    if(t.getNode(-1) is not None):\n",
        "        print(\"El elemento -1 existe\")\n",
        "    else:\n",
        "        print(\"El elemento -1 no existe\")\n",
        "    \n",
        "    if(not t.empty()):\n",
        "        print((\"Valor Max: \", t.getMax().getLabel()))\n",
        "        print((\"Valor Min: \", t.getMin().getLabel()))\n",
        "    \n",
        "    t.delete(13)\n",
        "    t.delete(10)\n",
        "    t.delete(8)\n",
        "    t.delete(3)\n",
        "    t.delete(6)\n",
        "    t.delete(14)\n",
        "\n",
        "    # Obtenemos todos los elementos del árbol en preorden\n",
        "    list = t.traversalTree(InPreOrder, t.root)\n",
        "    for x in list:\n",
        "        print(x)\n",
        "\n",
        "if __name__ == \"__main__\":\n",
        "    testBinarySearchTree()"
      ],
      "metadata": {
        "id": "3Q0ZXU10VrUS"
      },
      "execution_count": null,
      "outputs": []
    },
    {
      "cell_type": "markdown",
      "source": [
        "## Práctica 2.6\n",
        "* ¿Qué es un **camino hamiltoniano**?\n",
        "* Pon un ejemplo\n",
        "* Dibújalo\n",
        "* Resulevelo\n",
        "* ¿Qué utilidad tiene?\n",
        "* Muestra los enlaces a un par de vídeos que hablen de ello"
      ],
      "metadata": {
        "id": "Chf7cUkfaR9O"
      }
    },
    {
      "cell_type": "markdown",
      "source": [
        "####RESULTADO 2.6\n",
        "**CAMINO HAMILTONIANO**  \n",
        "En teoría de grafos, un camino hamiltoniano en un grafo es un camino (es decir, una sucesión de aristas adyacentes), que visita todos los vértices del grafo una sola vez. Si además el primer y último vértice visitado coincide, el camino es un ciclo hamiltonian.  \n",
        "El nombre proviene del matemático irlandés sir William Rowan Hamilton (1805-65), que propuso viajar a veinte ciudades del mundo, representadas como los vértices de un dodecaedro regular, siguiendo las aristas del dodecaedro.   \n",
        "\n",
        "*DEFINICIÓN*\n",
        "  \n",
        "1. Un camino sin vértices repetidos que recorre todos los vértices del grafo se llama camino hamiltoniano.\n",
        "2. Un camino hamiltoniano que sea un circuito se llama circuito hamiltoniano.\n",
        "3. Un grafo que tiene un circuito hamiltoniano se llama grafo hamiltoniano.\n",
        " \n",
        "Para grafos dirigidos, o dígrafos, las definiciones correspondientes tienen en cuenta que las aristas están dirigidas.\n",
        "\n",
        "1. Un camino dirigido en un dígrafo es camino dirigido hamiltoniano si visita todos los vértices del dígrafo sin repetir ninguno.\n",
        "2. Un ciclo dirigido hamiltoniano en un dígrafo es un camino dirigido hamiltoniano que es ciclo.\n",
        "3. El grafo dirigido es dígrafo hamiltoniano si contiene un ciclo dirigido hamiltoniano.  \n",
        "**EJEMPLO**\n",
        "  \n",
        "  ![Captura de pantalla 2022-11-12 112952.png](data:image/png;base64,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)\n",
        "  \n",
        "  Es hamiltoniano ya que es  simple y pasa por cada nodo exactamente una vez.\n",
        "  \n",
        "**VIDEOS EXPLICATIVOS Y DE EJEMPLOS**\n",
        "1. https://youtu.be/I9bISdP8Zeg\n",
        "2. https://youtu.be/h6_2Vm30NKE"
      ],
      "metadata": {
        "id": "Hac7-Y0yWdaW"
      }
    },
    {
      "cell_type": "markdown",
      "source": [
        "## Práctica 2.7\n",
        "* Mira este vídeo:\n",
        " - [Un problema matemático de ciudades y carreteras](https://youtu.be/kwU1uIbylsM)\n",
        "* Dibuja el grafo y da tu solución"
      ],
      "metadata": {
        "id": "vJ9XxUVKcpys"
      }
    },
    {
      "cell_type": "markdown",
      "source": [
        "####RESULTADO 2.7\n",
        "<img src=\"https://graphonline.ru/tmp/saved/wE/wEKrcQlmpPJveExv.png\" width=\"300\"/>\n",
        "<img src=\"https://graphonline.ru/tmp/saved/Fl/FlasTgiZDhgdyWKc.png\" width=\"300\"/>\n",
        "  \n",
        "   *SOLUCIÓN*: 7, 4, 10, 3, 6, 2, 9, 11, 5, 8, 1."
      ],
      "metadata": {
        "id": "lGBwV7r1R-56"
      }
    },
    {
      "cell_type": "markdown",
      "source": [
        "## Práctica 2.8\n",
        "* El problema de **los puentes de Königsberg**\n",
        "* Describe el problema\n",
        "* Muestra una imagen del grafo resultante\n",
        "* Quién fue *Euler* y qué hizo para resolver el problema"
      ],
      "metadata": {
        "id": "mWSmp60VaQRp"
      }
    },
    {
      "cell_type": "markdown",
      "source": [
        "####RESULTADO 2.8\n",
        "**El problema de los puentes de Königsberg**\n",
        "\n",
        "El problema de los puentes de Königsberg es uno de los problemas matemáticos más conocidos y analizados, ya que gracias a dicho problema se sentaron las bases de la topología y la teoría de grafos, muy importantes en las matemáticas.\n",
        "  \n",
        "Königsberg (Actualmente Kaliningrado, Rusia) era una ciudad de la antigua Prusia Oriental. Esta ciudad es atravesada por el río Pregel, el cual llega un punto en el que rodea a la isla de Kneiphof para posteriormente separarse en dos ramas, de tal forma que se divide el terreno en 4 regiones. Cada una de las regiones se conectaban entre sí mediante 7 puentes.\n",
        " \n",
        "\n",
        "<img src=\"https://ingenieriabasica.es/wp-content/uploads/2019/08/Konigsberg.jpg\" width=\"200\"/>\n",
        "\n",
        "**EL PROBLEMA**\n",
        "\n",
        "Dado el mapa de Königsberg, con el río Pregel dividiendo el plano en cuatro regiones distintas, que están unidas a través de los siete puentes, ¿es posible dar un paseo comenzando desde cualquiera de estas regiones, pasando por todos los puentes, recorriendo sólo una vez cada uno, y regresando al mismo punto de partida?\n",
        "\n",
        "**RESOLUCIÓN**\n",
        " \n",
        "<img src=\"https://ingenieriabasica.es/wp-content/uploads/2019/08/Euler-abstracci%C3%B3n.png\" width=\"700\"/>\n",
        "\n",
        "**EULER**\n",
        "  \n",
        "  Uno de los matemáticos que se encontraban por Königsberg por aquella época era Euler, ya que trabajaba en la Academia Prusiana de las Ciencias.\n",
        "\n",
        "Al no ser un problema relativamente extenso, puede ser resuelto empleando fuerza bruta (Comprobando todas y cada una de las combinaciones), llegando a la conclusión de que el problema no tiene solución.\n",
        "\n",
        "Basándose en dicho problema, Euler demostró por qué no tenía solución, y elaboró un teorema que podría aplicarse a cualquier tipo de regiones que quieren ser unidas cumpliendo una serie de normas.\n",
        "\n",
        "Para poder iniciar el desarrollo, Euler recurre a una abstracción del problema, centrándose en las regiones a unir (Puntos, Nodos) y en los puentes (Líneas, Aristas). Denominamos grado al número de aristas que salen de un nodo.\n",
        "\n",
        "  \n",
        "  \n",
        "\n"
      ],
      "metadata": {
        "id": "AKopo4pku-Qq"
      }
    },
    {
      "cell_type": "markdown",
      "source": [
        "## Práctica 2.9\n",
        "* ¿Qué son los **caminos eulerianos**?\n",
        "* ¿Qué son los **ciclos eulerianos**?\n",
        "* Da los enlaces a dos vídeos que hablen de ello\n",
        "* Dibuja un par de casos"
      ],
      "metadata": {
        "id": "_jPsX_8vhGkL"
      }
    },
    {
      "cell_type": "markdown",
      "source": [
        "####RESULTADO 2.9\n",
        "**CAMINOS EULORIANOS**\n",
        "  \n",
        "En la teoría de grafos, un camino euleriano es un camino que pasa por cada arista una y solo una vez\n",
        "\n",
        "**CICLOS EULORIANOS**  \n",
        "\n",
        "Es un camino de Euler con la diferencia que empieza y termina en el mismo  vértice es decir es un camino cerrado que recorre cada arista exactamente una vez. El problema de encontrar dichos caminos fue discutido por primera vez por Leonard Euler.\n",
        "\n",
        "**EJEMPLOS**  \n",
        "* https://youtu.be/w8d-4FyrbYk\n",
        "* https://youtu.be/zbOUAsoUoPg\n",
        "\n",
        "**CASOS**\n",
        "  \n",
        "  <img src=\"https://graphonline.ru/tmp/saved/zG/zGPAMrXisoRVslTy.svg\" width=\"300\"/>\n",
        "\n",
        "![image.png](data:image/png;base64,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)"
      ],
      "metadata": {
        "id": "pCT3G03uyIiK"
      }
    },
    {
      "cell_type": "markdown",
      "source": [
        "## Práctica 2.10\n",
        "* Mira estos vídeos:\n",
        " - [¿Puedes dibujarlo sin despegar el lápiz?](https://youtu.be/IZ0-xFrlvag)\n",
        " - [USA esta LÓGICA cuando NO PUEDAS con un PROBLEMA](https://youtu.be/5Ncb7eU0LkQ)\n",
        "* Caso 1: dibuja un grafo en el que si sea posible y resuélvelo\n",
        "* Caso 2: dibuja un grafo en el que no sea posible y di el motivo"
      ],
      "metadata": {
        "id": "4wcsNU_-kQM-"
      }
    },
    {
      "cell_type": "markdown",
      "source": [
        "**GRAFO POSIBLE**  \n",
        " <img src=\"https://graphonline.ru/tmp/saved/rB/rBWDhXcAdPwpFzjv.png\" width=\"200\"/>\n",
        "\n",
        "**GRAFO NO POSIBLE**\n",
        "\n",
        " <img src=\"http://4.bp.blogspot.com/_J2HbnUChDhM/TQdVcsqfgQI/AAAAAAAAAsI/pZEM_uX-Sw4/s1600/acertijo.bmp\" width=\"200\"/>\n",
        " \n",
        " No es posible ya que posee 5 vertices, los cuales a su vez, poseen 5 aristas cada uno menos el central.\n"
      ],
      "metadata": {
        "id": "LSSuCs5g0juX"
      }
    }
  ]
}