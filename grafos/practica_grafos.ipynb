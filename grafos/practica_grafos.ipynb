{
  "nbformat": 4,
  "nbformat_minor": 0,
  "metadata": {
    "colab": {
      "provenance": [],
      "include_colab_link": true
    },
    "kernelspec": {
      "name": "python3",
      "display_name": "Python 3"
    },
    "language_info": {
      "name": "python"
    }
  },
  "cells": [
    {
      "cell_type": "markdown",
      "metadata": {
        "id": "view-in-github",
        "colab_type": "text"
      },
      "source": [
        "<a href=\"https://colab.research.google.com/github/rmarinso/matematicas/blob/main/grafos/practica_grafos.ipynb\" target=\"_parent\"><img src=\"https://colab.research.google.com/assets/colab-badge.svg\" alt=\"Open In Colab\"/></a>"
      ]
    },
    {
      "cell_type": "markdown",
      "source": [
        "# Práctica 2. Grafos"
      ],
      "metadata": {
        "id": "s28_pETXts4V"
      }
    },
    {
      "cell_type": "markdown",
      "source": [
        "## Práctica 2.1\n",
        "**Algoritmo de Dijkstra**\n",
        "\n",
        "1. Mira estos vídeos:\n",
        " * [Algoritmo de DIJKSTRA ruta corta](https://youtu.be/6rl0ghgPfK0)\n",
        " * [Ruta mas corta en una red, algoritmo de Dijkstra](https://youtu.be/rh02c7v3EKY)\n",
        "2. ¿Qué utilidad tiene el algoritmo?\n",
        "3. Explique el algoritmo.\n",
        "4. De un ejemplo de un grafo resuelto con el algoritmo de Dijkstra.\n",
        "* Muestre la imagen del grafo con sus:\n",
        "  - nodos\n",
        "  - aristas (con flecha si son orientadas)\n",
        "  - pesos (distancias o costes)\n",
        "* Muestre nuevamente la imagen del grafo pero en esta ocasión con la solución."
      ],
      "metadata": {
        "id": "6Gr8mAWDxCdq"
      }
    },
    {
      "cell_type": "markdown",
      "source": [
        "####RESULTADO 2.1\n",
        "**1. ¿Qué utilidad tiene el algoritmo?**  \n",
        "El algoritmo de Dijkstra  permite calcular la ruta más corta entre un nodo  y todos los demás nodos en el grafo. Trata de ir explorando todos los caminos más cortos\n",
        "que parten de un vértice origen y recorre todos los\n",
        "demás vértices. Cuando se obtiene el camino mas\n",
        "corto desde el vértice origen, al resto de vértices que\n",
        "componen el grafo, el algoritmo se detiene.  \n",
        "Este algoritmo encuentra las distancias más cortas\n",
        "desde un vértice de origen a todos los demás\n",
        "vértices en un grafo ponderado conexo. Se debe de\n",
        "recalcar que las aristas debe de ser con valores\n",
        "positivos y que este algoritmo no funciona para\n",
        "valores negativos para ese tipo de grafos se utiliza el\n",
        "algoritmo Bellmand-Ford.  \n",
        "Este procedimiento es un ejemplo de algoritmo voraz,\n",
        "ya que lo obtenemos como el mejor resultado\n",
        "localmente, se convierte en el mejor resultado\n",
        "globalmente.\n",
        "\n",
        "  \n",
        "  **2. Explique el algoritmo.**  \n",
        "   \n",
        "   Sea x el nodo inicial (nodo fuente del grafo), un vector D de tamaño N\n",
        "guardará al final del algoritmo las distancias desde x al resto de los nodos.\n",
        " 1.  Inicializar todas las distancias en D con un valor infinito relativo (∞,-)\n",
        "ya que son desconocidas al principio, exceptuando la de x que se\n",
        "debe colocar en 0 debido a que la distancia de x a x sería 0 (0,-).\n",
        " 2. Sea a = x (tomamos a como nodo actual).\n",
        " \n",
        " 3. Recorremos todos los nodos adyacentes de a, excepto los nodos\n",
        "marcados, llamaremos a estos vi.\n",
        " 4. Si la distancia desde x hasta vi guardada en D es mayor que la\n",
        "distancia desde x hasta a sumada a la distancia desde a hasta vi; ésta\n",
        "se sustituye con la segunda nombrada, esto es:\n",
        "si (Di > Da + d(a, vi)) entonces Di = Da + d(a, vi)\n",
        " 5. Marcamos como completo el nodo a.\n",
        " 6. Tomamos como próximo nodo actual el de menor valor en D\n",
        "(puede hacerse almacenando los valores en una cola de prioridad) y\n",
        "volvemos al paso 3 mientras existan nodos no marcados.\n",
        " 7. Una vez terminado al algoritmo, D estará completamente lleno.\n",
        "  \n",
        "**3. De un ejemplo de un grafo resuelto con el algoritmo de Dijkstra.**  \n",
        "  <img src=\"https://www.ingenieriaindustrialonline.com/wp-content/uploads/2019/06/Sin-t%C3%ADtulo-302.png\" width=\"400\"/>\n",
        "      \n",
        "  <img src=\"https://www.ingenieriaindustrialonline.com/wp-content/uploads/2019/06/Sin-t%C3%ADtulo-311.png\" width=\"400\"/>\n",
        "\n",
        "\n",
        "\n",
        "\n",
        "\n",
        "\n",
        "\n",
        "\n"
      ],
      "metadata": {
        "id": "V4gvgKbdIkXD"
      }
    },
    {
      "cell_type": "markdown",
      "source": [
        "## Práctica 2.2\n",
        "Vea el video:\n",
        "\n",
        "* [Camino mas corto Solver](https://youtu.be/LYeMWlTfOgA)\n",
        "\n",
        "Se pide:  \n",
        "1. Replique en un archivo de Excel el caso del vídeo, en la Hoja 1. En el método de resolución de Solver elija el método Simplex.\n",
        "2. En la Hoja 2, aplique esa metodología usando Solver a otro grafo de su invención. Dibuje el grafo, con sus nodos, flechas y pesos, y resuélvalo.\n",
        "3. Suba el archivo de Excel creado a la tarea del Aula Virtual."
      ],
      "metadata": {
        "id": "In4IULDcx1Az"
      }
    },
    {
      "cell_type": "markdown",
      "source": [
        "## Práctica 2.3\n",
        "1. Muestre el enlace a alguna página donde se de el algoritmo de Dijkstra programado en **Python**.\n",
        "2. Pruebe su código con algún grafo de ejemplo."
      ],
      "metadata": {
        "id": "Dp_Eb4ORzqg4"
      }
    },
    {
      "cell_type": "markdown",
      "source": [
        "####RESULTADO 2.3\n",
        "1. **Algoritmo de Dijstra** (enlace)\n",
        "  \n",
        "  https://es.stackoverflow.com/questions/316880/una-pregunta-acerca-del-siguiente-c%C3%B3digo-en-python-del-algoritmo-de-dijkstra"
      ],
      "metadata": {
        "id": "M1nVjE3kOIqs"
      }
    },
    {
      "cell_type": "code",
      "source": [
        "#EJEMPLO Algoritmo de Dijstra\n",
        "class Graph:  \n",
        "\n",
        "    def minDistance(self, dist, queue):\n",
        "        minimum = float(\"Inf\")\n",
        "        min_index = -1\n",
        "\n",
        "        for i in range(len(dist)):\n",
        "            if dist[i] < minimum and i in queue:\n",
        "                minimum = dist[i]\n",
        "                min_index = i\n",
        "        return min_index\n",
        "\n",
        "    def printPath(self, parent, j):\n",
        "\n",
        "        # Base Case : If j is source\n",
        "        if parent[j] == -1:\n",
        "            print (j),\n",
        "            return\n",
        "        self.printPath(parent, parent[j])\n",
        "        print (j),\n",
        "\n",
        "    def printSolution(self, dist, parent):\n",
        "        src = 0\n",
        "        print(\"Vertex \\t\\tDistance from Source\\tPath\")\n",
        "        for i in range(1, len(dist)):\n",
        "            print(\"\\n%d --> %d \\t\\t%g \\t\\t\\t\\t\\t\" % (src, i, dist[i])),\n",
        "            self.printPath(parent, i)\n",
        "\n",
        "    def dijkstra(self, graph, src):\n",
        "\n",
        "        row = len(graph)\n",
        "        col = len(graph[0])\n",
        "\n",
        "        dist = [float(\"Inf\")] * row\n",
        "\n",
        "        parent = [-1] * row\n",
        "\n",
        "        dist[src] = 0\n",
        "\n",
        "        queue = []\n",
        "        for i in range(row):\n",
        "            queue.append(i)\n",
        "\n",
        "        while queue:\n",
        "            u = self.minDistance(dist, queue)\n",
        "            queue.remove(u)\n",
        "            for i in range(col):\n",
        "                if graph[u][i] and i in queue:\n",
        "                    if dist[u] + graph[u][i] < dist[i]:\n",
        "                        dist[i] = dist[u] + graph[u][i]\n",
        "                        parent[i] = u\n",
        "\n",
        "\n",
        "        self.printSolution(dist, parent)\n",
        "\n",
        "\n",
        "g = Graph()\n",
        "\n",
        "graph = [[0, 4, 0, 0, 0, 0, 0, 8, 0],\n",
        "         [4, 0, 8, 0, 0, 0, 0, 11, 0],\n",
        "         [0, 8, 0, 7, 0, 4, 0, 0, 2],\n",
        "         [0, 0, 7, 0, 9, 14, 0, 0, 0],\n",
        "         [0, 0, 0, 9, 0, 10, 0, 0, 0],\n",
        "         [0, 0, 4, 14, 10, 0, 2, 0, 0],\n",
        "         [0, 0, 0, 0, 0, 2, 0, 1, 6],\n",
        "         [8, 11, 0, 0, 0, 0, 1, 0, 7],\n",
        "         [0, 0, 2, 0, 0, 0, 6, 7, 0]]\n",
        "\n",
        "g.dijkstra(graph, 0)"
      ],
      "metadata": {
        "colab": {
          "base_uri": "https://localhost:8080/"
        },
        "id": "k7a1a4sRShjT",
        "outputId": "c145dae8-56d0-4081-bc0a-ea519cdd47c8"
      },
      "execution_count": null,
      "outputs": [
        {
          "output_type": "stream",
          "name": "stdout",
          "text": [
            "Vertex \t\tDistance from Source\tPath\n",
            "\n",
            "0 --> 1 \t\t4 \t\t\t\t\t\n",
            "0\n",
            "1\n",
            "\n",
            "0 --> 2 \t\t12 \t\t\t\t\t\n",
            "0\n",
            "1\n",
            "2\n",
            "\n",
            "0 --> 3 \t\t19 \t\t\t\t\t\n",
            "0\n",
            "1\n",
            "2\n",
            "3\n",
            "\n",
            "0 --> 4 \t\t21 \t\t\t\t\t\n",
            "0\n",
            "7\n",
            "6\n",
            "5\n",
            "4\n",
            "\n",
            "0 --> 5 \t\t11 \t\t\t\t\t\n",
            "0\n",
            "7\n",
            "6\n",
            "5\n",
            "\n",
            "0 --> 6 \t\t9 \t\t\t\t\t\n",
            "0\n",
            "7\n",
            "6\n",
            "\n",
            "0 --> 7 \t\t8 \t\t\t\t\t\n",
            "0\n",
            "7\n",
            "\n",
            "0 --> 8 \t\t14 \t\t\t\t\t\n",
            "0\n",
            "1\n",
            "2\n",
            "8\n"
          ]
        }
      ]
    },
    {
      "cell_type": "markdown",
      "source": [
        "## Práctica 2.4\n",
        "* Dibuja un grafo que tenga un mínimo de 6 nodos\n",
        "* Crea en **Python** su **matriz de adyacencia**\n",
        "* Crea en Python su **lista de adyacencia**\n",
        "* ¿Son cero todos los elementos de la diagonal principal?\n",
        " - En qué caso serían todos cero y en qué caso no.\n",
        "* ¿Es una matriz simétrica?\n",
        " - En qué caso sería simétrica y en qué caso no.\n",
        "* Usando Python, suma todos los valores de la matriz\n",
        "* Comprueba si funcionan bien o no los siguientes códigos:\n",
        " - El primero permite convertir una matriz de adyacencia en una lista de adyacencia.\n",
        " - El segundo permite convertir una lista de adyacencia en una matriz de adyacencia.\n",
        "* Dibuja el grafo del ejemplo que se usa en este código."
      ],
      "metadata": {
        "id": "r8s1WapAnHlw"
      }
    },
    {
      "cell_type": "code",
      "source": [
        "def convert_to_adjacency(matrix):\n",
        "    start = 0\n",
        "    res = []\n",
        "    lst = []\n",
        "    n = len(matrix)\n",
        "    for i in range(n):\n",
        "        res.append(lst*n)\n",
        "    while start < n:\n",
        "        y = matrix[start]\n",
        "        for i in range(len(y)):\n",
        "            if y[i]==1:\n",
        "                res[start].append(i)\n",
        "        start +=1\n",
        "    return res\n",
        "\n",
        "matrix =[[0,1,1,1,0,1,1,0,0],[1,0,0,1,0,0,1,1,0],[1,0,0,1,0,0,0,0,0],[1,1,1,0,1,0,0,0,0],[0,0,0,1,0,1,0,0,1],[1,0,0,0,1,0,0,0,1],[1,1,0,0,0,0,0,0,0],[0,1,0,0,0,0,0,0,0],[0,0,0,0,1,1,0,0,0]]\n",
        "print(convert_to_adjacency(matrix))"
      ],
      "metadata": {
        "id": "DDM1R2YzO-c-",
        "colab": {
          "base_uri": "https://localhost:8080/"
        },
        "outputId": "31e1e6b9-acf4-48bd-aa8f-fef9af0dce52"
      },
      "execution_count": null,
      "outputs": [
        {
          "output_type": "stream",
          "name": "stdout",
          "text": [
            "[[1, 2, 3, 5, 6], [0, 3, 6, 7], [0, 3], [0, 1, 2, 4], [3, 5, 8], [0, 4, 8], [0, 1], [1], [4, 5]]\n"
          ]
        }
      ]
    },
    {
      "cell_type": "code",
      "source": [
        "def convert_to_matrix(graph):\n",
        "    matrix =[]\n",
        "    for i in range(len(graph)): \n",
        "        matrix.append([0]*len(graph))\n",
        "        for j in graph[i]:\n",
        "            matrix[i][j]=1\n",
        "    return matrix\n",
        "\n",
        "lst =[[1,2,3,5,6],[0,3,6,7],[0,3],[0,1,2,4],[3,5,8],[0,4,8],[0,1],[1],[4,5]]\n",
        "print(convert_to_matrix(lst))"
      ],
      "metadata": {
        "id": "TcrGI9GTQ-o2",
        "colab": {
          "base_uri": "https://localhost:8080/"
        },
        "outputId": "9b1fb266-42e5-44d6-de24-5ec215baaf89"
      },
      "execution_count": null,
      "outputs": [
        {
          "output_type": "stream",
          "name": "stdout",
          "text": [
            "[[0, 1, 1, 1, 0, 1, 1, 0, 0], [1, 0, 0, 1, 0, 0, 1, 1, 0], [1, 0, 0, 1, 0, 0, 0, 0, 0], [1, 1, 1, 0, 1, 0, 0, 0, 0], [0, 0, 0, 1, 0, 1, 0, 0, 1], [1, 0, 0, 0, 1, 0, 0, 0, 1], [1, 1, 0, 0, 0, 0, 0, 0, 0], [0, 1, 0, 0, 0, 0, 0, 0, 0], [0, 0, 0, 0, 1, 1, 0, 0, 0]]\n"
          ]
        }
      ]
    },
    {
      "cell_type": "markdown",
      "source": [
        "## Práctica 2.5\n",
        "**Árboles binarios**\n",
        "* Mira este vídeo: [¿Qué son los ÁRBOLES BINARIOS y por qué son tan geniales?](https://youtu.be/lMTaNbJAqvM)\n",
        "* ¿Qué son los **árboles binarios de búsqueda**? (en inglés: BST (Binary Search Tree))\n",
        "* Mira este vídeo: [Recorrido de Árboles Binarios](https://youtu.be/WCiwBrj8EQY)\n",
        "* Qué significa recorrer el árbol en:\n",
        " - preorden\n",
        " - inorden\n",
        " - postorden\n",
        "* Al BST del vídeo anterior añadele dos nodos de tu elección, de forma que continúe siendo un BST, dibujalo (poniendo en color azul claro los dos nodos nuevos) y da su recorrido en:\n",
        " - preorden\n",
        " - inorden (observa que en este caso los nodos deben quedar **ordenados** de menor a mayor)\n",
        " - postorden\n",
        "* ¿Por qué los BST son importantes en ciencias de la computación?\n",
        "* Pon un link a una página o vídeo que trate este tema en **Python**.\n",
        "* ¿Has probado el código en Python que comentas? ¿Funciona con el BST que has puesto como ejemplo?"
      ],
      "metadata": {
        "id": "KciKQEh-DIxH"
      }
    },
    {
      "cell_type": "markdown",
      "source": [
        "RESULTADO 2.5  \n",
        "**ÁRBOLES BINARIOS**\n",
        "  \n",
        "Un árbol binario es un conjunto de elementos cada uno de los cuales de denomina nodo. Si un nodo no contiene datos, se dice que es un nodo externo, de lo contrario lo denominamos nodo interno.\n",
        "\n",
        "Un árbol binario es una estructura de dato no lineal en la que cada nodo puede apuntar a uno o máximo dos nodos, por ello el nombre \"binario\".  \n",
        "Los árboles binarios de búsqueda, son un tipo especial de árbol binario cuya característica radica en la forma ordenada de insertar sus elementos, facilitando así la búsqueda de un nodo en particular.   \n",
        "La forma en la que se ordenan los nodos es la siguiente:\n",
        "* la rama de la izquierda contendrá elementos menores\n",
        "* la rama de la derecha contendrá elementos mayores\n",
        "\n",
        "<img src=\"https://upload.wikimedia.org/wikipedia/commons/thumb/d/da/Binary_search_tree.svg/420px-Binary_search_tree.svg.png\" width=\"200\"/>\n",
        "\n",
        "\n",
        "**RECORRIDO DE ÁRBOLES BINARIOS**\n",
        "  \n",
        "Los árboles binarios  son considerados como estructuras de datos jerárquicas y como tal su forma de recorrerlos difiere sustancialmente.El recorrido de un árbol binario se lleva a cabo en tres sentidos: Preorden, Inorden y Postorden.\n",
        "\n",
        "* PREORDEN  \n",
        "El recorrido en preorden consiste, en primer lugar, en examinar el dato del nodo raíz, posteriormente se recorre el subárbol derecho en preorden y luego el subárbol izquierdo en preorden.\n",
        "* INORDEN  \n",
        "El recorrido en Inorden consiste en recorrer el subárbol izquierdo en Inorden, luego se examina el dato del nodo raíz, y finalmente se recorre el subárbol derecho en Inorden.\n",
        "* POSORDEN  \n",
        "El recorrido en postorden consiste en recorrer el subárbol izquierdo en postorden, luego el subárbol derecho en postorden, y finalmente examinar el dato del nodo raíz  \n",
        "\n",
        "**IMPORTANCIA DE LAS BTS EN LA COMPUTACIÓN**  \n",
        "  \n",
        "  La búsqueda en árboles binarios es un método de búsqueda simple, dinámico y eficiente considerado como uno de los fundamentales en Ciencia de la Computación.   \n",
        "  \n",
        "El **Árbol de Búsqueda Binaria** puede llegar a ser tan grande dependiendo de la información que se necesite procesar, por lo que la complejidad de los algoritmos que se deben aplicar a esta estructura es de vital importancia, y aunque estos algoritmos están bastante optimizados para que su Complejidad  en el peor de los casos llegue al orden de Θ (log n), lo que es  considerado un comportamiento de  crecimiento aceptable  en comparación con Θ (n²) o Θ (n³), aun se sigue investigando para reducir esta complejidad por la necesidad de almacenar mucho mas información de la que hasta la actualidad se esta manejando en estas estructuras.\n",
        "\n",
        "Una característica interesante de estos arboles de búsqueda  es que a partir de un nodo raíz (x), los nodos que se encuentren a la izquierda de este nodo  son los más pequeños en valor y los que se encuentran a la derecha son  valores más grandes.  \n",
        "\n",
        "**BTS en Python**  \n",
        "https://pythondiario.com/2018/07/arbol-binario-de-busqueda-estructura-de.html\n",
        "  \n",
        "  \n",
        "  **COMPROBACIÓN DE CÓDIGO APORTADO**\n",
        "\n",
        "\n",
        "\n"
      ],
      "metadata": {
        "id": "DYn1fSq1N-K-"
      }
    },
    {
      "cell_type": "code",
      "source": [
        "from __future__ import print_function #FUNCIONA \n",
        "\n",
        "# Declaramos la clase \"Node\"\n",
        "class Node:\n",
        "\n",
        "    def __init__(self, label, parent):\n",
        "        self.label = label\n",
        "        self.left = None\n",
        "        self.right = None\n",
        "        self.parent = parent\n",
        "\n",
        "        # Métodos para asignar nodos\n",
        "    def getLabel(self):\n",
        "        return self.label\n",
        "\n",
        "    def setLabel(self, label):\n",
        "        self.label = label\n",
        "\n",
        "    def getLeft(self):\n",
        "        return self.left\n",
        "\n",
        "    def setLeft(self, left):\n",
        "        self.left = left\n",
        "\n",
        "    def getRight(self):\n",
        "        return self.right\n",
        "\n",
        "    def setRight(self, right):\n",
        "        self.right = right\n",
        "\n",
        "    def getParent(self):\n",
        "        return self.parent\n",
        "\n",
        "    def setParent(self, parent):\n",
        "        self.parent = parent\n",
        "\n",
        "\n",
        "class BinarySearchTree:\n",
        "\n",
        "    def __init__(self):\n",
        "        self.root = None\n",
        "\n",
        "    def insert(self, label):\n",
        "        # Creamos un nuevo nodo\n",
        "        new_node = Node(label, None)\n",
        "        # Si el árbol esta vacio\n",
        "        if self.empty():\n",
        "            self.root = new_node\n",
        "        else:\n",
        "            # Si el árbol no esta vacio\n",
        "            curr_node = self.root\n",
        "            while curr_node is not None:\n",
        "                parent_node = curr_node\n",
        "                if new_node.getLabel() < curr_node.getLabel():\n",
        "                    curr_node = curr_node.getLeft()\n",
        "                else:\n",
        "                    curr_node = curr_node.getRight()\n",
        "            if new_node.getLabel() < parent_node.getLabel():\n",
        "                parent_node.setLeft(new_node)\n",
        "            else:\n",
        "                parent_node.setRight(new_node)\n",
        "            new_node.setParent(parent_node)      \n",
        "    \n",
        "    # Operación de borrado\n",
        "    def delete(self, label):\n",
        "        if (not self.empty()):\n",
        "            node = self.getNode(label)\n",
        "            if(node is not None):\n",
        "                if(node.getLeft() is None and node.getRight() is None):\n",
        "                    self.__reassignNodes(node, None)\n",
        "                    node = None\n",
        "                elif(node.getLeft() is None and node.getRight() is not None):\n",
        "                    self.__reassignNodes(node, node.getRight())\n",
        "                elif(node.getLeft() is not None and node.getRight() is None):\n",
        "                    self.__reassignNodes(node, node.getLeft())\n",
        "                else:\n",
        "                    tmpNode = self.getMax(node.getLeft())\n",
        "                    self.delete(tmpNode.getLabel())\n",
        "                    node.setLabel(tmpNode.getLabel())\n",
        "    \n",
        "    def getNode(self, label):\n",
        "        curr_node = None\n",
        "        if(not self.empty()):\n",
        "            curr_node = self.getRoot()\n",
        "            while curr_node is not None and curr_node.getLabel() is not label:\n",
        "                if label < curr_node.getLabel():\n",
        "                    curr_node = curr_node.getLeft()\n",
        "                else:\n",
        "                    curr_node = curr_node.getRight()\n",
        "        return curr_node\n",
        "\n",
        "    def getMax(self, root = None):\n",
        "        if(root is not None):\n",
        "            curr_node = root\n",
        "        else:\n",
        "            curr_node = self.getRoot()\n",
        "        if(not self.empty()):\n",
        "            while(curr_node.getRight() is not None):\n",
        "                curr_node = curr_node.getRight()\n",
        "        return curr_node\n",
        "\n",
        "    def getMin(self, root = None):\n",
        "        if(root is not None):\n",
        "            curr_node = root\n",
        "        else:\n",
        "            curr_node = self.getRoot()\n",
        "        if(not self.empty()):\n",
        "            curr_node = self.getRoot()\n",
        "            while(curr_node.getLeft() is not None):\n",
        "                curr_node = curr_node.getLeft()\n",
        "        return curr_node\n",
        "\n",
        "    def empty(self):\n",
        "        if self.root is None:\n",
        "            return True\n",
        "        return False\n",
        "\n",
        "    def __InOrderTraversal(self, curr_node):\n",
        "        nodeList = []\n",
        "        if curr_node is not None:\n",
        "            nodeList.insert(0, curr_node)\n",
        "            nodeList = nodeList + self.__InOrderTraversal(curr_node.getLeft())\n",
        "            nodeList = nodeList + self.__InOrderTraversal(curr_node.getRight())\n",
        "        return nodeList\n",
        "\n",
        "    def getRoot(self):\n",
        "        return self.root\n",
        "\n",
        "    def __isRightChildren(self, node):\n",
        "        if(node == node.getParent().getRight()):\n",
        "            return True\n",
        "        return False\n",
        "\n",
        "    def __reassignNodes(self, node, newChildren):\n",
        "        if(newChildren is not None):\n",
        "            newChildren.setParent(node.getParent())\n",
        "        if(node.getParent() is not None):\n",
        "            if(self.__isRightChildren(node)):\n",
        "                node.getParent().setRight(newChildren)\n",
        "            else:\n",
        "                node.getParent().setLeft(newChildren)\n",
        "\n",
        "    def traversalTree(self, traversalFunction = None, root = None):\n",
        "        if(traversalFunction is None):\n",
        "            return self.__InOrderTraversal(self.root)\n",
        "        else:\n",
        "            return traversalFunction(self.root)\n",
        "\n",
        "    def __str__(self):\n",
        "        list = self.__InOrderTraversal(self.root)\n",
        "        str = \"\"\n",
        "        for x in list:\n",
        "            str = str + \" \" + x.getLabel().__str__()\n",
        "        return str\n",
        "\n",
        "def InPreOrder(curr_node):\n",
        "    nodeList = []\n",
        "    if curr_node is not None:\n",
        "        nodeList = nodeList + InPreOrder(curr_node.getLeft())\n",
        "        nodeList.insert(0, curr_node.getLabel())\n",
        "        nodeList = nodeList + InPreOrder(curr_node.getRight())\n",
        "    return nodeList\n",
        "\n",
        "# Función para probar las clases\n",
        "def testBinarySearchTree():\n",
        "    '''\n",
        "    Ejemplo\n",
        "                  8\n",
        "                 / \n",
        "                3   10\n",
        "               /     \n",
        "              1   6    14\n",
        "                 /    /\n",
        "                4   7 13 \n",
        "    '''\n",
        "\n",
        "    '''\n",
        "    Ejemplo luego del borrado\n",
        "                  7\n",
        "                 / \n",
        "                1   4\n",
        "\n",
        "    '''\n",
        "    # Instancia del árbol binario de búsqueda\n",
        "    t = BinarySearchTree()\n",
        "    #Insertamos los elementos\n",
        "    t.insert(8)\n",
        "    t.insert(3)\n",
        "    t.insert(6)\n",
        "    t.insert(1)\n",
        "    t.insert(10)\n",
        "    t.insert(14)\n",
        "    t.insert(13)\n",
        "    t.insert(4)\n",
        "    t.insert(7)\n",
        "\n",
        "    print(t.__str__())\n",
        "\n",
        "    if(t.getNode(6) is not None):\n",
        "        print(\"El elemento 6 existe\")\n",
        "    else:\n",
        "        print(\"El elemento 6 no existe\")\n",
        "\n",
        "    if(t.getNode(-1) is not None):\n",
        "        print(\"El elemento -1 existe\")\n",
        "    else:\n",
        "        print(\"El elemento -1 no existe\")\n",
        "    \n",
        "    if(not t.empty()):\n",
        "        print((\"Valor Max: \", t.getMax().getLabel()))\n",
        "        print((\"Valor Min: \", t.getMin().getLabel()))\n",
        "    \n",
        "    t.delete(13)\n",
        "    t.delete(10)\n",
        "    t.delete(8)\n",
        "    t.delete(3)\n",
        "    t.delete(6)\n",
        "    t.delete(14)\n",
        "\n",
        "    # Obtenemos todos los elementos del árbol en preorden\n",
        "    list = t.traversalTree(InPreOrder, t.root)\n",
        "    for x in list:\n",
        "        print(x)\n",
        "\n",
        "if __name__ == \"__main__\":\n",
        "    testBinarySearchTree()"
      ],
      "metadata": {
        "id": "3Q0ZXU10VrUS"
      },
      "execution_count": null,
      "outputs": []
    },
    {
      "cell_type": "markdown",
      "source": [
        "## Práctica 2.6\n",
        "* ¿Qué es un **camino hamiltoniano**?\n",
        "* Pon un ejemplo\n",
        "* Dibújalo\n",
        "* Resulevelo\n",
        "* ¿Qué utilidad tiene?\n",
        "* Muestra los enlaces a un par de vídeos que hablen de ello"
      ],
      "metadata": {
        "id": "Chf7cUkfaR9O"
      }
    },
    {
      "cell_type": "markdown",
      "source": [
        "####RESULTADO 2.6\n",
        "**CAMINO HAMILTONIANO**  \n",
        "En teoría de grafos, un camino hamiltoniano en un grafo es un camino (es decir, una sucesión de aristas adyacentes), que visita todos los vértices del grafo una sola vez. Si además el primer y último vértice visitado coincide, el camino es un ciclo hamiltonian.  \n",
        "El nombre proviene del matemático irlandés sir William Rowan Hamilton (1805-65), que propuso viajar a veinte ciudades del mundo, representadas como los vértices de un dodecaedro regular, siguiendo las aristas del dodecaedro.   \n",
        "\n",
        "*DEFINICIÓN*\n",
        "  \n",
        "1. Un camino sin vértices repetidos que recorre todos los vértices del grafo se llama camino hamiltoniano.\n",
        "2. Un camino hamiltoniano que sea un circuito se llama circuito hamiltoniano.\n",
        "3. Un grafo que tiene un circuito hamiltoniano se llama grafo hamiltoniano.\n",
        " \n",
        "Para grafos dirigidos, o dígrafos, las definiciones correspondientes tienen en cuenta que las aristas están dirigidas.\n",
        "\n",
        "1. Un camino dirigido en un dígrafo es camino dirigido hamiltoniano si visita todos los vértices del dígrafo sin repetir ninguno.\n",
        "2. Un ciclo dirigido hamiltoniano en un dígrafo es un camino dirigido hamiltoniano que es ciclo.\n",
        "3. El grafo dirigido es dígrafo hamiltoniano si contiene un ciclo dirigido hamiltoniano.  \n",
        "**EJEMPLO**\n",
        "  \n",
        "  ![Captura de pantalla 2022-11-12 112952.png](data:image/png;base64,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)\n",
        "  \n",
        "  Es hamiltoniano ya que es  simple y pasa por cada nodo exactamente una vez.\n",
        "  \n",
        "**VIDEOS EXPLICATIVOS Y DE EJEMPLOS**\n",
        "1. https://youtu.be/I9bISdP8Zeg\n",
        "2. https://youtu.be/h6_2Vm30NKE"
      ],
      "metadata": {
        "id": "Hac7-Y0yWdaW"
      }
    },
    {
      "cell_type": "markdown",
      "source": [
        "## Práctica 2.7\n",
        "* Mira este vídeo:\n",
        " - [Un problema matemático de ciudades y carreteras](https://youtu.be/kwU1uIbylsM)\n",
        "* Dibuja el grafo y da tu solución"
      ],
      "metadata": {
        "id": "vJ9XxUVKcpys"
      }
    },
    {
      "cell_type": "markdown",
      "source": [
        "####RESULTADO 2.7\n",
        "<img src=\"https://graphonline.ru/tmp/saved/wE/wEKrcQlmpPJveExv.png\" width=\"300\"/>\n",
        "<img src=\"https://graphonline.ru/tmp/saved/Fl/FlasTgiZDhgdyWKc.png\" width=\"300\"/>\n",
        "  \n",
        "   *SOLUCIÓN*: 7, 4, 10, 3, 6, 2, 9, 11, 5, 8, 1."
      ],
      "metadata": {
        "id": "lGBwV7r1R-56"
      }
    },
    {
      "cell_type": "markdown",
      "source": [
        "## Práctica 2.8\n",
        "* El problema de **los puentes de Königsberg**\n",
        "* Describe el problema\n",
        "* Muestra una imagen del grafo resultante\n",
        "* Quién fue *Euler* y qué hizo para resolver el problema"
      ],
      "metadata": {
        "id": "mWSmp60VaQRp"
      }
    },
    {
      "cell_type": "markdown",
      "source": [
        "####RESULTADO 2.8\n",
        "**El problema de los puentes de Königsberg**\n",
        "\n",
        "El problema de los puentes de Königsberg es uno de los problemas matemáticos más conocidos y analizados, ya que gracias a dicho problema se sentaron las bases de la topología y la teoría de grafos, muy importantes en las matemáticas.\n",
        "  \n",
        "Königsberg (Actualmente Kaliningrado, Rusia) era una ciudad de la antigua Prusia Oriental. Esta ciudad es atravesada por el río Pregel, el cual llega un punto en el que rodea a la isla de Kneiphof para posteriormente separarse en dos ramas, de tal forma que se divide el terreno en 4 regiones. Cada una de las regiones se conectaban entre sí mediante 7 puentes.\n",
        " \n",
        "\n",
        "<img src=\"https://ingenieriabasica.es/wp-content/uploads/2019/08/Konigsberg.jpg\" width=\"200\"/>\n",
        "\n",
        "**EL PROBLEMA**\n",
        "\n",
        "Dado el mapa de Königsberg, con el río Pregel dividiendo el plano en cuatro regiones distintas, que están unidas a través de los siete puentes, ¿es posible dar un paseo comenzando desde cualquiera de estas regiones, pasando por todos los puentes, recorriendo sólo una vez cada uno, y regresando al mismo punto de partida?\n",
        "\n",
        "**RESOLUCIÓN**\n",
        " \n",
        "<img src=\"https://ingenieriabasica.es/wp-content/uploads/2019/08/Euler-abstracci%C3%B3n.png\" width=\"700\"/>\n",
        "\n",
        "**EULER**\n",
        "  \n",
        "  Uno de los matemáticos que se encontraban por Königsberg por aquella época era Euler, ya que trabajaba en la Academia Prusiana de las Ciencias.\n",
        "\n",
        "Al no ser un problema relativamente extenso, puede ser resuelto empleando fuerza bruta (Comprobando todas y cada una de las combinaciones), llegando a la conclusión de que el problema no tiene solución.\n",
        "\n",
        "Basándose en dicho problema, Euler demostró por qué no tenía solución, y elaboró un teorema que podría aplicarse a cualquier tipo de regiones que quieren ser unidas cumpliendo una serie de normas.\n",
        "\n",
        "Para poder iniciar el desarrollo, Euler recurre a una abstracción del problema, centrándose en las regiones a unir (Puntos, Nodos) y en los puentes (Líneas, Aristas). Denominamos grado al número de aristas que salen de un nodo.\n",
        "\n",
        "  \n",
        "  \n",
        "\n"
      ],
      "metadata": {
        "id": "AKopo4pku-Qq"
      }
    },
    {
      "cell_type": "markdown",
      "source": [
        "## Práctica 2.9\n",
        "* ¿Qué son los **caminos eulerianos**?\n",
        "* ¿Qué son los **ciclos eulerianos**?\n",
        "* Da los enlaces a dos vídeos que hablen de ello\n",
        "* Dibuja un par de casos"
      ],
      "metadata": {
        "id": "_jPsX_8vhGkL"
      }
    },
    {
      "cell_type": "markdown",
      "source": [
        "####RESULTADO 2.9\n",
        "**CAMINOS EULORIANOS**\n",
        "  \n",
        "En la teoría de grafos, un camino euleriano es un camino que pasa por cada arista una y solo una vez\n",
        "\n",
        "**CICLOS EULORIANOS**  \n",
        "\n",
        "Es un camino de Euler con la diferencia que empieza y termina en el mismo  vértice es decir es un camino cerrado que recorre cada arista exactamente una vez. El problema de encontrar dichos caminos fue discutido por primera vez por Leonard Euler.\n",
        "\n",
        "**EJEMPLOS**  \n",
        "* https://youtu.be/w8d-4FyrbYk\n",
        "* https://youtu.be/zbOUAsoUoPg\n",
        "\n",
        "**CASOS**\n"
      ],
      "metadata": {
        "id": "pCT3G03uyIiK"
      }
    },
    {
      "cell_type": "markdown",
      "source": [
        "## Práctica 2.10\n",
        "* Mira estos vídeos:\n",
        " - [¿Puedes dibujarlo sin despegar el lápiz?](https://youtu.be/IZ0-xFrlvag)\n",
        " - [USA esta LÓGICA cuando NO PUEDAS con un PROBLEMA](https://youtu.be/5Ncb7eU0LkQ)\n",
        "* Caso 1: dibuja un grafo en el que si sea posible y resuélvelo\n",
        "* Caso 2: dibuja un grafo en el que no sea posible y di el motivo"
      ],
      "metadata": {
        "id": "4wcsNU_-kQM-"
      }
    }
  ]
}