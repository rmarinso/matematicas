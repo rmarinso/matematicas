{
  "nbformat": 4,
  "nbformat_minor": 0,
  "metadata": {
    "colab": {
      "provenance": [],
      "include_colab_link": true
    },
    "kernelspec": {
      "name": "python3",
      "display_name": "Python 3"
    },
    "language_info": {
      "name": "python"
    }
  },
  "cells": [
    {
      "cell_type": "markdown",
      "metadata": {
        "id": "view-in-github",
        "colab_type": "text"
      },
      "source": [
        "<a href=\"https://colab.research.google.com/github/rmarinso/matematicas/blob/main/grafos/practica_grafos.ipynb\" target=\"_parent\"><img src=\"https://colab.research.google.com/assets/colab-badge.svg\" alt=\"Open In Colab\"/></a>"
      ]
    },
    {
      "cell_type": "markdown",
      "source": [
        "# Práctica 2. Grafos"
      ],
      "metadata": {
        "id": "s28_pETXts4V"
      }
    },
    {
      "cell_type": "markdown",
      "source": [
        "## Práctica 2.1\n",
        "**Algoritmo de Dijkstra**\n",
        "\n",
        "1. Mira estos vídeos:\n",
        " * [Algoritmo de DIJKSTRA ruta corta](https://youtu.be/6rl0ghgPfK0)\n",
        " * [Ruta mas corta en una red, algoritmo de Dijkstra](https://youtu.be/rh02c7v3EKY)\n",
        "2. ¿Qué utilidad tiene el algoritmo?\n",
        "3. Explique el algoritmo.\n",
        "4. De un ejemplo de un grafo resuelto con el algoritmo de Dijkstra.\n",
        "* Muestre la imagen del grafo con sus:\n",
        "  - nodos\n",
        "  - aristas (con flecha si son orientadas)\n",
        "  - pesos (distancias o costes)\n",
        "* Muestre nuevamente la imagen del grafo pero en esta ocasión con la solución."
      ],
      "metadata": {
        "id": "6Gr8mAWDxCdq"
      }
    },
    {
      "cell_type": "markdown",
      "source": [
        "####RESULTADO 2.1\n",
        "**1. ¿Qué utilidad tiene el algoritmo?**  \n",
        "El algoritmo de Dijkstra  permite calcular la ruta más corta entre un nodo  y todos los demás nodos en el grafo. Trata de ir explorando todos los caminos más cortos\n",
        "que parten de un vértice origen y recorre todos los\n",
        "demás vértices. Cuando se obtiene el camino mas\n",
        "corto desde el vértice origen, al resto de vértices que\n",
        "componen el grafo, el algoritmo se detiene.\n",
        "  \n",
        "  **2. Explique el algoritmo.**  \n",
        "   \n",
        "   Sea x el nodo inicial (nodo fuente del grafo), un vector D de tamaño N\n",
        "guardará al final del algoritmo las distancias desde x al resto de los nodos.\n",
        " 1.  Inicializar todas las distancias en D con un valor infinito relativo (∞,-)\n",
        "ya que son desconocidas al principio, exceptuando la de x que se\n",
        "debe colocar en 0 debido a que la distancia de x a x sería 0 (0,-).\n",
        " 2. Sea a = x (tomamos a como nodo actual).\n",
        " \n",
        " 3. Recorremos todos los nodos adyacentes de a, excepto los nodos\n",
        "marcados, llamaremos a estos vi.\n",
        " 4. Si la distancia desde x hasta vi guardada en D es mayor que la\n",
        "distancia desde x hasta a sumada a la distancia desde a hasta vi; ésta\n",
        "se sustituye con la segunda nombrada, esto es:\n",
        "si (Di > Da + d(a, vi)) entonces Di = Da + d(a, vi)\n",
        " 5. Marcamos como completo el nodo a.\n",
        " 6. Tomamos como próximo nodo actual el de menor valor en D\n",
        "(puede hacerse almacenando los valores en una cola de prioridad) y\n",
        "volvemos al paso 3 mientras existan nodos no marcados.\n",
        " 7. Una vez terminado al algoritmo, D estará completamente lleno.\n",
        "  \n",
        "**4. De un ejemplo de un grafo resuelto con el algoritmo de Dijkstra.**\n",
        "\n",
        "\n",
        "\n",
        "\n",
        "\n",
        "\n",
        "\n"
      ],
      "metadata": {
        "id": "V4gvgKbdIkXD"
      }
    },
    {
      "cell_type": "markdown",
      "source": [
        "## Práctica 2.2\n",
        "Vea el video:\n",
        "\n",
        "* [Camino mas corto Solver](https://youtu.be/LYeMWlTfOgA)\n",
        "\n",
        "Se pide:  \n",
        "1. Replique en un archivo de Excel el caso del vídeo, en la Hoja 1. En el método de resolución de Solver elija el método Simplex.\n",
        "2. En la Hoja 2, aplique esa metodología usando Solver a otro grafo de su invención. Dibuje el grafo, con sus nodos, flechas y pesos, y resuélvalo.\n",
        "3. Suba el archivo de Excel creado a la tarea del Aula Virtual."
      ],
      "metadata": {
        "id": "In4IULDcx1Az"
      }
    },
    {
      "cell_type": "markdown",
      "source": [
        "## Práctica 2.3\n",
        "1. Muestre el enlace a alguna página donde se de el algoritmo de Dijkstra programado en **Python**.\n",
        "2. Pruebe su código con algún grafo de ejemplo."
      ],
      "metadata": {
        "id": "Dp_Eb4ORzqg4"
      }
    },
    {
      "cell_type": "markdown",
      "source": [
        "####RESULTADO 2.3\n",
        "1. **Algoritmo de Dijstra** (enlace)\n",
        "  \n",
        "  https://es.stackoverflow.com/questions/316880/una-pregunta-acerca-del-siguiente-c%C3%B3digo-en-python-del-algoritmo-de-dijkstra"
      ],
      "metadata": {
        "id": "M1nVjE3kOIqs"
      }
    },
    {
      "cell_type": "code",
      "source": [
        "#EJEMPLO Algoritmo de Dijstra\n",
        "class Graph:  \n",
        "\n",
        "    def minDistance(self, dist, queue):\n",
        "        minimum = float(\"Inf\")\n",
        "        min_index = -1\n",
        "\n",
        "        for i in range(len(dist)):\n",
        "            if dist[i] < minimum and i in queue:\n",
        "                minimum = dist[i]\n",
        "                min_index = i\n",
        "        return min_index\n",
        "\n",
        "    def printPath(self, parent, j):\n",
        "\n",
        "        # Base Case : If j is source\n",
        "        if parent[j] == -1:\n",
        "            print (j),\n",
        "            return\n",
        "        self.printPath(parent, parent[j])\n",
        "        print (j),\n",
        "\n",
        "    def printSolution(self, dist, parent):\n",
        "        src = 0\n",
        "        print(\"Vertex \\t\\tDistance from Source\\tPath\")\n",
        "        for i in range(1, len(dist)):\n",
        "            print(\"\\n%d --> %d \\t\\t%g \\t\\t\\t\\t\\t\" % (src, i, dist[i])),\n",
        "            self.printPath(parent, i)\n",
        "\n",
        "    def dijkstra(self, graph, src):\n",
        "\n",
        "        row = len(graph)\n",
        "        col = len(graph[0])\n",
        "\n",
        "        dist = [float(\"Inf\")] * row\n",
        "\n",
        "        parent = [-1] * row\n",
        "\n",
        "        dist[src] = 0\n",
        "\n",
        "        queue = []\n",
        "        for i in range(row):\n",
        "            queue.append(i)\n",
        "\n",
        "        while queue:\n",
        "            u = self.minDistance(dist, queue)\n",
        "            queue.remove(u)\n",
        "            for i in range(col):\n",
        "                if graph[u][i] and i in queue:\n",
        "                    if dist[u] + graph[u][i] < dist[i]:\n",
        "                        dist[i] = dist[u] + graph[u][i]\n",
        "                        parent[i] = u\n",
        "\n",
        "\n",
        "        self.printSolution(dist, parent)\n",
        "\n",
        "\n",
        "g = Graph()\n",
        "\n",
        "graph = [[0, 4, 0, 0, 0, 0, 0, 8, 0],\n",
        "         [4, 0, 8, 0, 0, 0, 0, 11, 0],\n",
        "         [0, 8, 0, 7, 0, 4, 0, 0, 2],\n",
        "         [0, 0, 7, 0, 9, 14, 0, 0, 0],\n",
        "         [0, 0, 0, 9, 0, 10, 0, 0, 0],\n",
        "         [0, 0, 4, 14, 10, 0, 2, 0, 0],\n",
        "         [0, 0, 0, 0, 0, 2, 0, 1, 6],\n",
        "         [8, 11, 0, 0, 0, 0, 1, 0, 7],\n",
        "         [0, 0, 2, 0, 0, 0, 6, 7, 0]]\n",
        "\n",
        "g.dijkstra(graph, 0)"
      ],
      "metadata": {
        "id": "k7a1a4sRShjT",
        "outputId": "c145dae8-56d0-4081-bc0a-ea519cdd47c8",
        "colab": {
          "base_uri": "https://localhost:8080/"
        }
      },
      "execution_count": 11,
      "outputs": [
        {
          "output_type": "stream",
          "name": "stdout",
          "text": [
            "Vertex \t\tDistance from Source\tPath\n",
            "\n",
            "0 --> 1 \t\t4 \t\t\t\t\t\n",
            "0\n",
            "1\n",
            "\n",
            "0 --> 2 \t\t12 \t\t\t\t\t\n",
            "0\n",
            "1\n",
            "2\n",
            "\n",
            "0 --> 3 \t\t19 \t\t\t\t\t\n",
            "0\n",
            "1\n",
            "2\n",
            "3\n",
            "\n",
            "0 --> 4 \t\t21 \t\t\t\t\t\n",
            "0\n",
            "7\n",
            "6\n",
            "5\n",
            "4\n",
            "\n",
            "0 --> 5 \t\t11 \t\t\t\t\t\n",
            "0\n",
            "7\n",
            "6\n",
            "5\n",
            "\n",
            "0 --> 6 \t\t9 \t\t\t\t\t\n",
            "0\n",
            "7\n",
            "6\n",
            "\n",
            "0 --> 7 \t\t8 \t\t\t\t\t\n",
            "0\n",
            "7\n",
            "\n",
            "0 --> 8 \t\t14 \t\t\t\t\t\n",
            "0\n",
            "1\n",
            "2\n",
            "8\n"
          ]
        }
      ]
    },
    {
      "cell_type": "markdown",
      "source": [
        "## Práctica 2.4\n",
        "* Dibuja un grafo que tenga un mínimo de 6 nodos\n",
        "* Crea en **Python** su **matriz de adyacencia**\n",
        "* Crea en Python su **lista de adyacencia**\n",
        "* ¿Son cero todos los elementos de la diagonal principal?\n",
        " - En qué caso serían todos cero y en qué caso no.\n",
        "* ¿Es una matriz simétrica?\n",
        " - En qué caso sería simétrica y en qué caso no.\n",
        "* Usando Python, suma todos los valores de la matriz\n",
        "* Comprueba si funcionan bien o no los siguientes códigos:\n",
        " - El primero permite convertir una matriz de adyacencia en una lista de adyacencia.\n",
        " - El segundo permite convertir una lista de adyacencia en una matriz de adyacencia.\n",
        "* Dibuja el grafo del ejemplo que se usa en este código."
      ],
      "metadata": {
        "id": "r8s1WapAnHlw"
      }
    },
    {
      "cell_type": "code",
      "source": [
        "def convert_to_adjacency(matrix):\n",
        "    start = 0\n",
        "    res = []\n",
        "    lst = []\n",
        "    n = len(matrix)\n",
        "    for i in range(n):\n",
        "        res.append(lst*n)\n",
        "    while start < n:\n",
        "        y = matrix[start]\n",
        "        for i in range(len(y)):\n",
        "            if y[i]==1:\n",
        "                res[start].append(i)\n",
        "        start +=1\n",
        "    return res\n",
        "\n",
        "matrix =[[0,1,1,1,0,1,1,0,0],[1,0,0,1,0,0,1,1,0],[1,0,0,1,0,0,0,0,0],[1,1,1,0,1,0,0,0,0],[0,0,0,1,0,1,0,0,1],[1,0,0,0,1,0,0,0,1],[1,1,0,0,0,0,0,0,0],[0,1,0,0,0,0,0,0,0],[0,0,0,0,1,1,0,0,0]]\n",
        "print(convert_to_adjacency(matrix))"
      ],
      "metadata": {
        "id": "DDM1R2YzO-c-"
      },
      "execution_count": null,
      "outputs": []
    },
    {
      "cell_type": "code",
      "source": [
        "def convert_to_matrix(graph):\n",
        "    matrix =[]\n",
        "    for i in range(len(graph)): \n",
        "        matrix.append([0]*len(graph))\n",
        "        for j in graph[i]:\n",
        "            matrix[i][j]=1\n",
        "    return matrix\n",
        "\n",
        "lst =[[1,2,3,5,6],[0,3,6,7],[0,3],[0,1,2,4],[3,5,8],[0,4,8],[0,1],[1],[4,5]]\n",
        "print(convert_to_matrix(lst))"
      ],
      "metadata": {
        "id": "TcrGI9GTQ-o2"
      },
      "execution_count": null,
      "outputs": []
    },
    {
      "cell_type": "markdown",
      "source": [
        "## Práctica 2.5\n",
        "**Árboles binarios**\n",
        "* Mira este vídeo: [¿Qué son los ÁRBOLES BINARIOS y por qué son tan geniales?](https://youtu.be/lMTaNbJAqvM)\n",
        "* ¿Qué son los **árboles binarios de búsqueda**? (en inglés: BST (Binary Search Tree))\n",
        "* Mira este vídeo: [Recorrido de Árboles Binarios](https://youtu.be/WCiwBrj8EQY)\n",
        "* Qué significa recorrer el árbol en:\n",
        " - preorden\n",
        " - inorden\n",
        " - postorden\n",
        "* Al BST del vídeo anterior añadele dos nodos de tu elección, de forma que continúe siendo un BST, dibujalo (poniendo en color azul claro los dos nodos nuevos) y da su recorrido en:\n",
        " - preorden\n",
        " - inorden (observa que en este caso los nodos deben quedar **ordenados** de menor a mayor)\n",
        " - postorden\n",
        "* ¿Por qué los BST son importantes en ciencias de la computación?\n",
        "* Pon un link a una página o vídeo que trate este tema en **Python**.\n",
        "* ¿Has probado el código en Python que comentas? ¿Funciona con el BST que has puesto como ejemplo?"
      ],
      "metadata": {
        "id": "KciKQEh-DIxH"
      }
    },
    {
      "cell_type": "markdown",
      "source": [
        "## Práctica 2.6\n",
        "* ¿Qué es un **camino hamiltoniano**?\n",
        "* Pon un ejemplo\n",
        "* Dibújalo\n",
        "* Resulevelo\n",
        "* ¿Qué utilidad tiene?\n",
        "* Muestra los enlaces a un par de vídeos que hablen de ello"
      ],
      "metadata": {
        "id": "Chf7cUkfaR9O"
      }
    },
    {
      "cell_type": "markdown",
      "source": [
        "## Práctica 2.7\n",
        "* Mira este vídeo:\n",
        " - [Un problema matemático de ciudades y carreteras](https://youtu.be/kwU1uIbylsM)\n",
        "* Dibuja el grafo y da tu solución"
      ],
      "metadata": {
        "id": "vJ9XxUVKcpys"
      }
    },
    {
      "cell_type": "markdown",
      "source": [
        "## Práctica 2.8\n",
        "* El problema de **los puentes de Königsberg**\n",
        "* Describe el problema\n",
        "* Muestra una imagen del grafo resultante\n",
        "* Quién fue *Euler* y qué hizo para resolver el problema"
      ],
      "metadata": {
        "id": "mWSmp60VaQRp"
      }
    },
    {
      "cell_type": "markdown",
      "source": [
        "## Práctica 2.9\n",
        "* ¿Qué son los **caminos eulerianos**?\n",
        "* ¿Qué son los **ciclos eulerianos**?\n",
        "* Da los enlaces a dos vídeos que hablen de ello\n",
        "* Dibuja un par de casos"
      ],
      "metadata": {
        "id": "_jPsX_8vhGkL"
      }
    },
    {
      "cell_type": "markdown",
      "source": [
        "## Práctica 2.10\n",
        "* Mira estos vídeos:\n",
        " - [¿Puedes dibujarlo sin despegar el lápiz?](https://youtu.be/IZ0-xFrlvag)\n",
        " - [USA esta LÓGICA cuando NO PUEDAS con un PROBLEMA](https://youtu.be/5Ncb7eU0LkQ)\n",
        "* Caso 1: dibuja un grafo en el que si sea posible y resuélvelo\n",
        "* Caso 2: dibuja un grafo en el que no sea posible y di el motivo"
      ],
      "metadata": {
        "id": "4wcsNU_-kQM-"
      }
    }
  ]
}